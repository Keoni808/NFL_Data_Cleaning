{
  "nbformat": 4,
  "nbformat_minor": 0,
  "metadata": {
    "colab": {
      "provenance": [],
      "authorship_tag": "ABX9TyOiDz0fYVljqIoORPzZlgmi",
      "include_colab_link": true
    },
    "kernelspec": {
      "name": "python3",
      "display_name": "Python 3"
    },
    "language_info": {
      "name": "python"
    }
  },
  "cells": [
    {
      "cell_type": "markdown",
      "metadata": {
        "id": "view-in-github",
        "colab_type": "text"
      },
      "source": [
        "<a href=\"https://colab.research.google.com/github/Keoni808/NFL_Data_Cleaning/blob/main/NFL_Plays_Week1_2023.ipynb\" target=\"_parent\"><img src=\"https://colab.research.google.com/assets/colab-badge.svg\" alt=\"Open In Colab\"/></a>"
      ]
    },
    {
      "cell_type": "markdown",
      "source": [
        "PURPOSE:\n",
        "- To view a larger sample size of plays.\n",
        "  - Currently working on breaking down a single game but do not have enough data in that game to correctly break down all play descriptions for different play types."
      ],
      "metadata": {
        "id": "bDIp3ojKOdg2"
      }
    },
    {
      "cell_type": "markdown",
      "source": [
        "# MOUNTING AND IMPORTS"
      ],
      "metadata": {
        "id": "ciN_CS4bOcpV"
      }
    },
    {
      "cell_type": "code",
      "execution_count": 1,
      "metadata": {
        "colab": {
          "base_uri": "https://localhost:8080/"
        },
        "id": "ZS3J98keONRD",
        "outputId": "e33fa592-07e0-4666-cd38-fed564e1ec30"
      },
      "outputs": [
        {
          "output_type": "stream",
          "name": "stdout",
          "text": [
            "Mounted at /content/drive\n"
          ]
        }
      ],
      "source": [
        "# Mount your Google Drive\n",
        "from google.colab import drive\n",
        "drive.mount('/content/drive')"
      ]
    },
    {
      "cell_type": "code",
      "source": [
        "# Used to access personal google cloud services\n",
        "from google.colab import auth\n",
        "auth.authenticate_user()\n",
        "print('Authenticated')"
      ],
      "metadata": {
        "colab": {
          "base_uri": "https://localhost:8080/"
        },
        "id": "7gLupTRXO5gw",
        "outputId": "1ba40131-8c95-4c13-b7bb-3e45f906d260"
      },
      "execution_count": 2,
      "outputs": [
        {
          "output_type": "stream",
          "name": "stdout",
          "text": [
            "Authenticated\n"
          ]
        }
      ]
    },
    {
      "cell_type": "code",
      "source": [
        "# Installs\n",
        "!pip install ipdb"
      ],
      "metadata": {
        "colab": {
          "base_uri": "https://localhost:8080/"
        },
        "id": "Xf2EJPBthkba",
        "outputId": "5875fa95-2aba-4449-b3ea-23fbb617154a"
      },
      "execution_count": 3,
      "outputs": [
        {
          "output_type": "stream",
          "name": "stdout",
          "text": [
            "Collecting ipdb\n",
            "  Downloading ipdb-0.13.13-py3-none-any.whl.metadata (14 kB)\n",
            "Requirement already satisfied: ipython>=7.31.1 in /usr/local/lib/python3.10/dist-packages (from ipdb) (7.34.0)\n",
            "Requirement already satisfied: tomli in /usr/local/lib/python3.10/dist-packages (from ipdb) (2.0.1)\n",
            "Requirement already satisfied: decorator in /usr/local/lib/python3.10/dist-packages (from ipdb) (4.4.2)\n",
            "Requirement already satisfied: setuptools>=18.5 in /usr/local/lib/python3.10/dist-packages (from ipython>=7.31.1->ipdb) (71.0.4)\n",
            "Collecting jedi>=0.16 (from ipython>=7.31.1->ipdb)\n",
            "  Using cached jedi-0.19.1-py2.py3-none-any.whl.metadata (22 kB)\n",
            "Requirement already satisfied: pickleshare in /usr/local/lib/python3.10/dist-packages (from ipython>=7.31.1->ipdb) (0.7.5)\n",
            "Requirement already satisfied: traitlets>=4.2 in /usr/local/lib/python3.10/dist-packages (from ipython>=7.31.1->ipdb) (5.7.1)\n",
            "Requirement already satisfied: prompt-toolkit!=3.0.0,!=3.0.1,<3.1.0,>=2.0.0 in /usr/local/lib/python3.10/dist-packages (from ipython>=7.31.1->ipdb) (3.0.47)\n",
            "Requirement already satisfied: pygments in /usr/local/lib/python3.10/dist-packages (from ipython>=7.31.1->ipdb) (2.16.1)\n",
            "Requirement already satisfied: backcall in /usr/local/lib/python3.10/dist-packages (from ipython>=7.31.1->ipdb) (0.2.0)\n",
            "Requirement already satisfied: matplotlib-inline in /usr/local/lib/python3.10/dist-packages (from ipython>=7.31.1->ipdb) (0.1.7)\n",
            "Requirement already satisfied: pexpect>4.3 in /usr/local/lib/python3.10/dist-packages (from ipython>=7.31.1->ipdb) (4.9.0)\n",
            "Requirement already satisfied: parso<0.9.0,>=0.8.3 in /usr/local/lib/python3.10/dist-packages (from jedi>=0.16->ipython>=7.31.1->ipdb) (0.8.4)\n",
            "Requirement already satisfied: ptyprocess>=0.5 in /usr/local/lib/python3.10/dist-packages (from pexpect>4.3->ipython>=7.31.1->ipdb) (0.7.0)\n",
            "Requirement already satisfied: wcwidth in /usr/local/lib/python3.10/dist-packages (from prompt-toolkit!=3.0.0,!=3.0.1,<3.1.0,>=2.0.0->ipython>=7.31.1->ipdb) (0.2.13)\n",
            "Downloading ipdb-0.13.13-py3-none-any.whl (12 kB)\n",
            "Using cached jedi-0.19.1-py2.py3-none-any.whl (1.6 MB)\n",
            "Installing collected packages: jedi, ipdb\n",
            "Successfully installed ipdb-0.13.13 jedi-0.19.1\n"
          ]
        }
      ]
    },
    {
      "cell_type": "code",
      "source": [
        "# Imports\n",
        "\n",
        "# Data manipulation\n",
        "import pandas as pd\n",
        "\n",
        "# Regular expressions\n",
        "import re\n",
        "\n",
        "# Grab data from database\n",
        "from google.cloud import bigquery\n",
        "\n",
        "# Debugging\n",
        "import ipdb"
      ],
      "metadata": {
        "id": "1YadW6p7O7Lf"
      },
      "execution_count": 4,
      "outputs": []
    },
    {
      "cell_type": "code",
      "source": [
        "# Turning on automatic debugger\n",
        "%pdb on"
      ],
      "metadata": {
        "colab": {
          "base_uri": "https://localhost:8080/"
        },
        "id": "jKpGDloBiQN8",
        "outputId": "94ba4ab6-e130-4a0c-8dce-43f6ab77f450"
      },
      "execution_count": 5,
      "outputs": [
        {
          "output_type": "stream",
          "name": "stdout",
          "text": [
            "Automatic pdb calling has been turned ON\n"
          ]
        }
      ]
    },
    {
      "cell_type": "markdown",
      "source": [
        "# LOADING DATA (BigQuery queries)"
      ],
      "metadata": {
        "id": "rTlTgrlpO_q1"
      }
    },
    {
      "cell_type": "code",
      "source": [
        "# Client connect to bigquery project\n",
        "client = bigquery.Client('nfl-data-430702')"
      ],
      "metadata": {
        "id": "W05L1TH6PAcb"
      },
      "execution_count": 6,
      "outputs": []
    },
    {
      "cell_type": "markdown",
      "source": [
        "## Season 2023 Week 1"
      ],
      "metadata": {
        "id": "HPdKuDJJPIUZ"
      }
    },
    {
      "cell_type": "code",
      "source": [
        "# Grabbing all plays from Super Bowl 2023\n",
        "week1_2023_plays_query = \"\"\"\n",
        "                         SELECT *\n",
        "                         FROM `nfl-data-430702.NFL_Scores.NFL-Plays-Week1_2023`\n",
        "                         \"\"\"\n",
        "\n",
        "# Running psuedo query, and returns the amount of bytes it will take to run query\n",
        "dry_run_config = bigquery.QueryJobConfig(dry_run=True)\n",
        "dry_run_query = client.query(week1_2023_plays_query, job_config=dry_run_config)\n",
        "print(\"This query will process {} bytes.\".format(dry_run_query.total_bytes_processed))\n",
        "\n",
        "# Running query (Being mindful of the amount of data being grabbed)\n",
        "# Will grab a maximum of a Gigabyte\n",
        "safe_config = bigquery.QueryJobConfig(maximum_bytes_billed=10**9)\n",
        "safe_config_query = client.query(week1_2023_plays_query, job_config=safe_config)"
      ],
      "metadata": {
        "colab": {
          "base_uri": "https://localhost:8080/"
        },
        "id": "gnOg_zdhPLHi",
        "outputId": "eb4aaba0-0553-4892-e9a6-4cbc516c3825"
      },
      "execution_count": 7,
      "outputs": [
        {
          "output_type": "stream",
          "name": "stdout",
          "text": [
            "This query will process 570194 bytes.\n"
          ]
        }
      ]
    },
    {
      "cell_type": "code",
      "source": [
        "# Putting data attained from query into a dataframe\n",
        "week1_2023_plays = safe_config_query.to_dataframe()"
      ],
      "metadata": {
        "id": "27xLLVO6PfSJ"
      },
      "execution_count": 8,
      "outputs": []
    },
    {
      "cell_type": "code",
      "source": [
        "week1_2023_plays.head()"
      ],
      "metadata": {
        "colab": {
          "base_uri": "https://localhost:8080/",
          "height": 399
        },
        "id": "pJP-0GxhPhI_",
        "outputId": "09530a19-c60c-48c5-c58a-d52f4c3889b8"
      },
      "execution_count": 9,
      "outputs": [
        {
          "output_type": "execute_result",
          "data": {
            "text/plain": [
              "   Season    Week  Day   Date AwayTeam HomeTeam      Quarter  DriveNumber  \\\n",
              "0    2023  Week 1  MON  09/11    Bills     Jets  1ST QUARTER            1   \n",
              "1    2023  Week 1  MON  09/11    Bills     Jets  1ST QUARTER            1   \n",
              "2    2023  Week 1  MON  09/11    Bills     Jets  1ST QUARTER            1   \n",
              "3    2023  Week 1  MON  09/11    Bills     Jets  1ST QUARTER            1   \n",
              "4    2023  Week 1  MON  09/11    Bills     Jets  1ST QUARTER            1   \n",
              "\n",
              "  TeamWithPossession  IsScoringDrive  PlayNumberInDrive  IsScoringPlay  \\\n",
              "0                BUF               0                  1              0   \n",
              "1                BUF               0                  2              0   \n",
              "2                BUF               0                  3              0   \n",
              "3                BUF               0                  4              0   \n",
              "4                BUF               0                  5              0   \n",
              "\n",
              "   PlayOutcome                                    PlayDescription  \\\n",
              "0      Kickoff  G.Zuerlein kicks 65 yards from NYJ 35 to end z...   \n",
              "1  7 Yard Pass  (15:00) (Shotgun) J.Allen pass short right to ...   \n",
              "2  5 Yard Pass  (14:34) (No Huddle, Shotgun) J.Allen pass shor...   \n",
              "3   3 Yard Run  (14:01) J.Cook up the middle to BUF 40 for 3 y...   \n",
              "4   2 Yard Run  (13:24) (Shotgun) J.Cook up the middle to BUF ...   \n",
              "\n",
              "             PlayStart  \n",
              "0  Kickoff from NYJ 35  \n",
              "1   1st & 10 at BUF 25  \n",
              "2    2nd & 3 at BUF 32  \n",
              "3   1st & 10 at BUF 37  \n",
              "4    2nd & 7 at BUF 40  "
            ],
            "text/html": [
              "\n",
              "  <div id=\"df-5b3da2c2-eefb-489b-9b25-992e9efaa1df\" class=\"colab-df-container\">\n",
              "    <div>\n",
              "<style scoped>\n",
              "    .dataframe tbody tr th:only-of-type {\n",
              "        vertical-align: middle;\n",
              "    }\n",
              "\n",
              "    .dataframe tbody tr th {\n",
              "        vertical-align: top;\n",
              "    }\n",
              "\n",
              "    .dataframe thead th {\n",
              "        text-align: right;\n",
              "    }\n",
              "</style>\n",
              "<table border=\"1\" class=\"dataframe\">\n",
              "  <thead>\n",
              "    <tr style=\"text-align: right;\">\n",
              "      <th></th>\n",
              "      <th>Season</th>\n",
              "      <th>Week</th>\n",
              "      <th>Day</th>\n",
              "      <th>Date</th>\n",
              "      <th>AwayTeam</th>\n",
              "      <th>HomeTeam</th>\n",
              "      <th>Quarter</th>\n",
              "      <th>DriveNumber</th>\n",
              "      <th>TeamWithPossession</th>\n",
              "      <th>IsScoringDrive</th>\n",
              "      <th>PlayNumberInDrive</th>\n",
              "      <th>IsScoringPlay</th>\n",
              "      <th>PlayOutcome</th>\n",
              "      <th>PlayDescription</th>\n",
              "      <th>PlayStart</th>\n",
              "    </tr>\n",
              "  </thead>\n",
              "  <tbody>\n",
              "    <tr>\n",
              "      <th>0</th>\n",
              "      <td>2023</td>\n",
              "      <td>Week 1</td>\n",
              "      <td>MON</td>\n",
              "      <td>09/11</td>\n",
              "      <td>Bills</td>\n",
              "      <td>Jets</td>\n",
              "      <td>1ST QUARTER</td>\n",
              "      <td>1</td>\n",
              "      <td>BUF</td>\n",
              "      <td>0</td>\n",
              "      <td>1</td>\n",
              "      <td>0</td>\n",
              "      <td>Kickoff</td>\n",
              "      <td>G.Zuerlein kicks 65 yards from NYJ 35 to end z...</td>\n",
              "      <td>Kickoff from NYJ 35</td>\n",
              "    </tr>\n",
              "    <tr>\n",
              "      <th>1</th>\n",
              "      <td>2023</td>\n",
              "      <td>Week 1</td>\n",
              "      <td>MON</td>\n",
              "      <td>09/11</td>\n",
              "      <td>Bills</td>\n",
              "      <td>Jets</td>\n",
              "      <td>1ST QUARTER</td>\n",
              "      <td>1</td>\n",
              "      <td>BUF</td>\n",
              "      <td>0</td>\n",
              "      <td>2</td>\n",
              "      <td>0</td>\n",
              "      <td>7 Yard Pass</td>\n",
              "      <td>(15:00) (Shotgun) J.Allen pass short right to ...</td>\n",
              "      <td>1st &amp; 10 at BUF 25</td>\n",
              "    </tr>\n",
              "    <tr>\n",
              "      <th>2</th>\n",
              "      <td>2023</td>\n",
              "      <td>Week 1</td>\n",
              "      <td>MON</td>\n",
              "      <td>09/11</td>\n",
              "      <td>Bills</td>\n",
              "      <td>Jets</td>\n",
              "      <td>1ST QUARTER</td>\n",
              "      <td>1</td>\n",
              "      <td>BUF</td>\n",
              "      <td>0</td>\n",
              "      <td>3</td>\n",
              "      <td>0</td>\n",
              "      <td>5 Yard Pass</td>\n",
              "      <td>(14:34) (No Huddle, Shotgun) J.Allen pass shor...</td>\n",
              "      <td>2nd &amp; 3 at BUF 32</td>\n",
              "    </tr>\n",
              "    <tr>\n",
              "      <th>3</th>\n",
              "      <td>2023</td>\n",
              "      <td>Week 1</td>\n",
              "      <td>MON</td>\n",
              "      <td>09/11</td>\n",
              "      <td>Bills</td>\n",
              "      <td>Jets</td>\n",
              "      <td>1ST QUARTER</td>\n",
              "      <td>1</td>\n",
              "      <td>BUF</td>\n",
              "      <td>0</td>\n",
              "      <td>4</td>\n",
              "      <td>0</td>\n",
              "      <td>3 Yard Run</td>\n",
              "      <td>(14:01) J.Cook up the middle to BUF 40 for 3 y...</td>\n",
              "      <td>1st &amp; 10 at BUF 37</td>\n",
              "    </tr>\n",
              "    <tr>\n",
              "      <th>4</th>\n",
              "      <td>2023</td>\n",
              "      <td>Week 1</td>\n",
              "      <td>MON</td>\n",
              "      <td>09/11</td>\n",
              "      <td>Bills</td>\n",
              "      <td>Jets</td>\n",
              "      <td>1ST QUARTER</td>\n",
              "      <td>1</td>\n",
              "      <td>BUF</td>\n",
              "      <td>0</td>\n",
              "      <td>5</td>\n",
              "      <td>0</td>\n",
              "      <td>2 Yard Run</td>\n",
              "      <td>(13:24) (Shotgun) J.Cook up the middle to BUF ...</td>\n",
              "      <td>2nd &amp; 7 at BUF 40</td>\n",
              "    </tr>\n",
              "  </tbody>\n",
              "</table>\n",
              "</div>\n",
              "    <div class=\"colab-df-buttons\">\n",
              "\n",
              "  <div class=\"colab-df-container\">\n",
              "    <button class=\"colab-df-convert\" onclick=\"convertToInteractive('df-5b3da2c2-eefb-489b-9b25-992e9efaa1df')\"\n",
              "            title=\"Convert this dataframe to an interactive table.\"\n",
              "            style=\"display:none;\">\n",
              "\n",
              "  <svg xmlns=\"http://www.w3.org/2000/svg\" height=\"24px\" viewBox=\"0 -960 960 960\">\n",
              "    <path d=\"M120-120v-720h720v720H120Zm60-500h600v-160H180v160Zm220 220h160v-160H400v160Zm0 220h160v-160H400v160ZM180-400h160v-160H180v160Zm440 0h160v-160H620v160ZM180-180h160v-160H180v160Zm440 0h160v-160H620v160Z\"/>\n",
              "  </svg>\n",
              "    </button>\n",
              "\n",
              "  <style>\n",
              "    .colab-df-container {\n",
              "      display:flex;\n",
              "      gap: 12px;\n",
              "    }\n",
              "\n",
              "    .colab-df-convert {\n",
              "      background-color: #E8F0FE;\n",
              "      border: none;\n",
              "      border-radius: 50%;\n",
              "      cursor: pointer;\n",
              "      display: none;\n",
              "      fill: #1967D2;\n",
              "      height: 32px;\n",
              "      padding: 0 0 0 0;\n",
              "      width: 32px;\n",
              "    }\n",
              "\n",
              "    .colab-df-convert:hover {\n",
              "      background-color: #E2EBFA;\n",
              "      box-shadow: 0px 1px 2px rgba(60, 64, 67, 0.3), 0px 1px 3px 1px rgba(60, 64, 67, 0.15);\n",
              "      fill: #174EA6;\n",
              "    }\n",
              "\n",
              "    .colab-df-buttons div {\n",
              "      margin-bottom: 4px;\n",
              "    }\n",
              "\n",
              "    [theme=dark] .colab-df-convert {\n",
              "      background-color: #3B4455;\n",
              "      fill: #D2E3FC;\n",
              "    }\n",
              "\n",
              "    [theme=dark] .colab-df-convert:hover {\n",
              "      background-color: #434B5C;\n",
              "      box-shadow: 0px 1px 3px 1px rgba(0, 0, 0, 0.15);\n",
              "      filter: drop-shadow(0px 1px 2px rgba(0, 0, 0, 0.3));\n",
              "      fill: #FFFFFF;\n",
              "    }\n",
              "  </style>\n",
              "\n",
              "    <script>\n",
              "      const buttonEl =\n",
              "        document.querySelector('#df-5b3da2c2-eefb-489b-9b25-992e9efaa1df button.colab-df-convert');\n",
              "      buttonEl.style.display =\n",
              "        google.colab.kernel.accessAllowed ? 'block' : 'none';\n",
              "\n",
              "      async function convertToInteractive(key) {\n",
              "        const element = document.querySelector('#df-5b3da2c2-eefb-489b-9b25-992e9efaa1df');\n",
              "        const dataTable =\n",
              "          await google.colab.kernel.invokeFunction('convertToInteractive',\n",
              "                                                    [key], {});\n",
              "        if (!dataTable) return;\n",
              "\n",
              "        const docLinkHtml = 'Like what you see? Visit the ' +\n",
              "          '<a target=\"_blank\" href=https://colab.research.google.com/notebooks/data_table.ipynb>data table notebook</a>'\n",
              "          + ' to learn more about interactive tables.';\n",
              "        element.innerHTML = '';\n",
              "        dataTable['output_type'] = 'display_data';\n",
              "        await google.colab.output.renderOutput(dataTable, element);\n",
              "        const docLink = document.createElement('div');\n",
              "        docLink.innerHTML = docLinkHtml;\n",
              "        element.appendChild(docLink);\n",
              "      }\n",
              "    </script>\n",
              "  </div>\n",
              "\n",
              "\n",
              "<div id=\"df-dd0e3fdb-4dfc-4c1b-877d-ce6f8044b96e\">\n",
              "  <button class=\"colab-df-quickchart\" onclick=\"quickchart('df-dd0e3fdb-4dfc-4c1b-877d-ce6f8044b96e')\"\n",
              "            title=\"Suggest charts\"\n",
              "            style=\"display:none;\">\n",
              "\n",
              "<svg xmlns=\"http://www.w3.org/2000/svg\" height=\"24px\"viewBox=\"0 0 24 24\"\n",
              "     width=\"24px\">\n",
              "    <g>\n",
              "        <path d=\"M19 3H5c-1.1 0-2 .9-2 2v14c0 1.1.9 2 2 2h14c1.1 0 2-.9 2-2V5c0-1.1-.9-2-2-2zM9 17H7v-7h2v7zm4 0h-2V7h2v10zm4 0h-2v-4h2v4z\"/>\n",
              "    </g>\n",
              "</svg>\n",
              "  </button>\n",
              "\n",
              "<style>\n",
              "  .colab-df-quickchart {\n",
              "      --bg-color: #E8F0FE;\n",
              "      --fill-color: #1967D2;\n",
              "      --hover-bg-color: #E2EBFA;\n",
              "      --hover-fill-color: #174EA6;\n",
              "      --disabled-fill-color: #AAA;\n",
              "      --disabled-bg-color: #DDD;\n",
              "  }\n",
              "\n",
              "  [theme=dark] .colab-df-quickchart {\n",
              "      --bg-color: #3B4455;\n",
              "      --fill-color: #D2E3FC;\n",
              "      --hover-bg-color: #434B5C;\n",
              "      --hover-fill-color: #FFFFFF;\n",
              "      --disabled-bg-color: #3B4455;\n",
              "      --disabled-fill-color: #666;\n",
              "  }\n",
              "\n",
              "  .colab-df-quickchart {\n",
              "    background-color: var(--bg-color);\n",
              "    border: none;\n",
              "    border-radius: 50%;\n",
              "    cursor: pointer;\n",
              "    display: none;\n",
              "    fill: var(--fill-color);\n",
              "    height: 32px;\n",
              "    padding: 0;\n",
              "    width: 32px;\n",
              "  }\n",
              "\n",
              "  .colab-df-quickchart:hover {\n",
              "    background-color: var(--hover-bg-color);\n",
              "    box-shadow: 0 1px 2px rgba(60, 64, 67, 0.3), 0 1px 3px 1px rgba(60, 64, 67, 0.15);\n",
              "    fill: var(--button-hover-fill-color);\n",
              "  }\n",
              "\n",
              "  .colab-df-quickchart-complete:disabled,\n",
              "  .colab-df-quickchart-complete:disabled:hover {\n",
              "    background-color: var(--disabled-bg-color);\n",
              "    fill: var(--disabled-fill-color);\n",
              "    box-shadow: none;\n",
              "  }\n",
              "\n",
              "  .colab-df-spinner {\n",
              "    border: 2px solid var(--fill-color);\n",
              "    border-color: transparent;\n",
              "    border-bottom-color: var(--fill-color);\n",
              "    animation:\n",
              "      spin 1s steps(1) infinite;\n",
              "  }\n",
              "\n",
              "  @keyframes spin {\n",
              "    0% {\n",
              "      border-color: transparent;\n",
              "      border-bottom-color: var(--fill-color);\n",
              "      border-left-color: var(--fill-color);\n",
              "    }\n",
              "    20% {\n",
              "      border-color: transparent;\n",
              "      border-left-color: var(--fill-color);\n",
              "      border-top-color: var(--fill-color);\n",
              "    }\n",
              "    30% {\n",
              "      border-color: transparent;\n",
              "      border-left-color: var(--fill-color);\n",
              "      border-top-color: var(--fill-color);\n",
              "      border-right-color: var(--fill-color);\n",
              "    }\n",
              "    40% {\n",
              "      border-color: transparent;\n",
              "      border-right-color: var(--fill-color);\n",
              "      border-top-color: var(--fill-color);\n",
              "    }\n",
              "    60% {\n",
              "      border-color: transparent;\n",
              "      border-right-color: var(--fill-color);\n",
              "    }\n",
              "    80% {\n",
              "      border-color: transparent;\n",
              "      border-right-color: var(--fill-color);\n",
              "      border-bottom-color: var(--fill-color);\n",
              "    }\n",
              "    90% {\n",
              "      border-color: transparent;\n",
              "      border-bottom-color: var(--fill-color);\n",
              "    }\n",
              "  }\n",
              "</style>\n",
              "\n",
              "  <script>\n",
              "    async function quickchart(key) {\n",
              "      const quickchartButtonEl =\n",
              "        document.querySelector('#' + key + ' button');\n",
              "      quickchartButtonEl.disabled = true;  // To prevent multiple clicks.\n",
              "      quickchartButtonEl.classList.add('colab-df-spinner');\n",
              "      try {\n",
              "        const charts = await google.colab.kernel.invokeFunction(\n",
              "            'suggestCharts', [key], {});\n",
              "      } catch (error) {\n",
              "        console.error('Error during call to suggestCharts:', error);\n",
              "      }\n",
              "      quickchartButtonEl.classList.remove('colab-df-spinner');\n",
              "      quickchartButtonEl.classList.add('colab-df-quickchart-complete');\n",
              "    }\n",
              "    (() => {\n",
              "      let quickchartButtonEl =\n",
              "        document.querySelector('#df-dd0e3fdb-4dfc-4c1b-877d-ce6f8044b96e button');\n",
              "      quickchartButtonEl.style.display =\n",
              "        google.colab.kernel.accessAllowed ? 'block' : 'none';\n",
              "    })();\n",
              "  </script>\n",
              "</div>\n",
              "\n",
              "    </div>\n",
              "  </div>\n"
            ],
            "application/vnd.google.colaboratory.intrinsic+json": {
              "type": "dataframe",
              "variable_name": "week1_2023_plays",
              "summary": "{\n  \"name\": \"week1_2023_plays\",\n  \"rows\": 2600,\n  \"fields\": [\n    {\n      \"column\": \"Season\",\n      \"properties\": {\n        \"dtype\": \"Int64\",\n        \"num_unique_values\": 1,\n        \"samples\": [\n          2023\n        ],\n        \"semantic_type\": \"\",\n        \"description\": \"\"\n      }\n    },\n    {\n      \"column\": \"Week\",\n      \"properties\": {\n        \"dtype\": \"category\",\n        \"num_unique_values\": 1,\n        \"samples\": [\n          \"Week 1\"\n        ],\n        \"semantic_type\": \"\",\n        \"description\": \"\"\n      }\n    },\n    {\n      \"column\": \"Day\",\n      \"properties\": {\n        \"dtype\": \"category\",\n        \"num_unique_values\": 3,\n        \"samples\": [\n          \"MON\"\n        ],\n        \"semantic_type\": \"\",\n        \"description\": \"\"\n      }\n    },\n    {\n      \"column\": \"Date\",\n      \"properties\": {\n        \"dtype\": \"category\",\n        \"num_unique_values\": 3,\n        \"samples\": [\n          \"09/11\"\n        ],\n        \"semantic_type\": \"\",\n        \"description\": \"\"\n      }\n    },\n    {\n      \"column\": \"AwayTeam\",\n      \"properties\": {\n        \"dtype\": \"category\",\n        \"num_unique_values\": 16,\n        \"samples\": [\n          \"Bills\"\n        ],\n        \"semantic_type\": \"\",\n        \"description\": \"\"\n      }\n    },\n    {\n      \"column\": \"HomeTeam\",\n      \"properties\": {\n        \"dtype\": \"category\",\n        \"num_unique_values\": 16,\n        \"samples\": [\n          \"Jets\"\n        ],\n        \"semantic_type\": \"\",\n        \"description\": \"\"\n      }\n    },\n    {\n      \"column\": \"Quarter\",\n      \"properties\": {\n        \"dtype\": \"category\",\n        \"num_unique_values\": 5,\n        \"samples\": [\n          \"2ND QUARTER\"\n        ],\n        \"semantic_type\": \"\",\n        \"description\": \"\"\n      }\n    },\n    {\n      \"column\": \"DriveNumber\",\n      \"properties\": {\n        \"dtype\": \"Int64\",\n        \"num_unique_values\": 10,\n        \"samples\": [\n          8\n        ],\n        \"semantic_type\": \"\",\n        \"description\": \"\"\n      }\n    },\n    {\n      \"column\": \"TeamWithPossession\",\n      \"properties\": {\n        \"dtype\": \"category\",\n        \"num_unique_values\": 32,\n        \"samples\": [\n          \"PIT\"\n        ],\n        \"semantic_type\": \"\",\n        \"description\": \"\"\n      }\n    },\n    {\n      \"column\": \"IsScoringDrive\",\n      \"properties\": {\n        \"dtype\": \"Int64\",\n        \"num_unique_values\": 2,\n        \"samples\": [\n          1\n        ],\n        \"semantic_type\": \"\",\n        \"description\": \"\"\n      }\n    },\n    {\n      \"column\": \"PlayNumberInDrive\",\n      \"properties\": {\n        \"dtype\": \"Int64\",\n        \"num_unique_values\": 20,\n        \"samples\": [\n          1\n        ],\n        \"semantic_type\": \"\",\n        \"description\": \"\"\n      }\n    },\n    {\n      \"column\": \"IsScoringPlay\",\n      \"properties\": {\n        \"dtype\": \"Int64\",\n        \"num_unique_values\": 2,\n        \"samples\": [\n          1\n        ],\n        \"semantic_type\": \"\",\n        \"description\": \"\"\n      }\n    },\n    {\n      \"column\": \"PlayOutcome\",\n      \"properties\": {\n        \"dtype\": \"category\",\n        \"num_unique_values\": 170,\n        \"samples\": [\n          \"Touchdown Buccaneers\"\n        ],\n        \"semantic_type\": \"\",\n        \"description\": \"\"\n      }\n    },\n    {\n      \"column\": \"PlayDescription\",\n      \"properties\": {\n        \"dtype\": \"string\",\n        \"num_unique_values\": 2487,\n        \"samples\": [\n          \"(:54) (Shotgun) K.Cousins pass deep middle to J.Jefferson to TB 22 for 42 yards (A.Winfield).\"\n        ],\n        \"semantic_type\": \"\",\n        \"description\": \"\"\n      }\n    },\n    {\n      \"column\": \"PlayStart\",\n      \"properties\": {\n        \"dtype\": \"string\",\n        \"num_unique_values\": 2119,\n        \"samples\": [\n          \"3rd & 16 at LA 18\"\n        ],\n        \"semantic_type\": \"\",\n        \"description\": \"\"\n      }\n    }\n  ]\n}"
            }
          },
          "metadata": {},
          "execution_count": 9
        }
      ]
    },
    {
      "cell_type": "code",
      "source": [
        "# Observation of the amount of data being worked on\n",
        "week1_2023_plays.shape"
      ],
      "metadata": {
        "colab": {
          "base_uri": "https://localhost:8080/"
        },
        "id": "oShT8MvlRQdR",
        "outputId": "a4b5f6b6-d458-4638-aa4f-6ed990ce1c12"
      },
      "execution_count": 10,
      "outputs": [
        {
          "output_type": "execute_result",
          "data": {
            "text/plain": [
              "(2600, 15)"
            ]
          },
          "metadata": {},
          "execution_count": 10
        }
      ]
    },
    {
      "cell_type": "markdown",
      "source": [
        "# CATEGORIZE PLAYS\n",
        "- The goal here is to parse out the different values for 'PlayOutcome'\n",
        "  - separate pass / run / kickoff / etc."
      ],
      "metadata": {
        "id": "9JD1VzJWRWn0"
      }
    },
    {
      "cell_type": "markdown",
      "source": [
        "## PARSING\n"
      ],
      "metadata": {
        "id": "6G8yilnkRcZu"
      }
    },
    {
      "cell_type": "code",
      "source": [
        "# Maybe try to fuzzywuzzy this in the future?\n",
        "\n",
        "# All play outcomes from the game\n",
        "# - From here we can categorize and clean plays accordingly\n",
        "week1_2023_plays['PlayOutcome'].unique()"
      ],
      "metadata": {
        "colab": {
          "base_uri": "https://localhost:8080/"
        },
        "id": "S0WcGgv1RXl0",
        "outputId": "f13c5847-e28a-49f7-a2ea-a381eca7ad3f"
      },
      "execution_count": 11,
      "outputs": [
        {
          "output_type": "execute_result",
          "data": {
            "text/plain": [
              "array(['Kickoff', '7 Yard Pass', '5 Yard Pass', '3 Yard Run',\n",
              "       '2 Yard Run', 'Pass Incomplete', 'Punt', '-5 Yard Penalty',\n",
              "       '5 Yard Run', '1 Yard Pass', '14 Yard Run', '3 Yard Pass',\n",
              "       '8 Yard Run', '6 Yard Pass', '15 Yard Pass', '-9 Yard Sack',\n",
              "       '4 Yard Pass', '13 Yard Pass', 'Field Goal', '-2 Yard Sack',\n",
              "       'Interception', '-5 Yard Run', '18 Yard Pass', '8 Yard Pass',\n",
              "       '6 Yard Run', '12 Yard Run', '-1 Yard Run', '26 Yard Pass',\n",
              "       'Touchdown Bills', 'Extra Point Good', '13 Yard Run',\n",
              "       '-3 Yard Sack', '7 Yard Run', '9 Yard Pass', '4 Yard Run',\n",
              "       'Fumble', '-10 Yard Penalty', '10 Yard Pass', '26 Yard Run',\n",
              "       '5 Yard Penalty', '-10 Yard Sack', '22 Yard Pass', '-4 Yard Run',\n",
              "       '-12 Yard Sack', '83 Yard Run', '1 Yard Run', '2 Yard Pass',\n",
              "       '10 Yard Run', 'Run for No Gain', '12 Yard Pass', '20 Yard Pass',\n",
              "       '9 Yard Run', '-2 Yard Pass', 'Sack', '24 Yard Pass',\n",
              "       '14 Yard Pass', 'Touchdown Jets', '-3 Yard Run', '-2 Yard Run',\n",
              "       'Touchdown Packers', '16 Yard Pass', '30 Yard Pass',\n",
              "       '-8 Yard Sack', '51 Yard Pass', '37 Yard Pass', '-8 Yard Run',\n",
              "       'Turnover on Downs', '19 Yard Pass', '23 Yard Pass', '-7 Yard Run',\n",
              "       '11 Yard Run', '11 Yard Pass', '-7 Yard Sack', '-4 Yard Pass',\n",
              "       '-11 Yard Sack', '-6 Yard Run', 'Touchdown Bears',\n",
              "       '2PT Conversion Success', '2PT Conversion Fails',\n",
              "       'Touchdown Colts', '35 Yard Pass', '-5 Yard Sack',\n",
              "       '15 Yard Penalty', '-14 Yard Run', '-1 Yard Sack', '-3 Yard Pass',\n",
              "       'Touchdown Jaguars', '29 Yard Pass', '22 Yard Run',\n",
              "       '18 Yard Penalty', 'Field Goal No Good', '-1 Yard Pass',\n",
              "       '17 Yard Run', '19 Yard Run', 'Touchdown Browns', '33 Yard Pass',\n",
              "       '16 Yard Run', 'Touchdown Chiefs', '25 Yard Pass', '34 Yard Pass',\n",
              "       '41 Yard Penalty', '21 Yard Pass', 'Touchdown Lions',\n",
              "       '-12 Yard Penalty', '18 Yard Run', '23 Yard Run',\n",
              "       'Pass for No Gain', 'Touchdown Cowboys', '49 Yard Pass',\n",
              "       '37 Yard Penalty', '25 Yard Run', '-4 Yard Sack', '-5 Yard Pass',\n",
              "       'Touchdown Ravens', '26 Yard Penalty', '1 Yard Penalty',\n",
              "       '17 Yard Penalty', '17 Yard Pass', '-6 Yard Sack', '-6 Yard Pass',\n",
              "       '27 Yard Pass', '45 Yard Pass', 'Touchdown Saints', '41 Yard Pass',\n",
              "       '46 Yard Pass', 'Touchdown Raiders', '16 Yard Penalty',\n",
              "       '31 Yard Pass', 'Touchdown Broncos', 'Extra Point No Good',\n",
              "       '-7 Yard Pass', 'Touchdown Falcons', '-13 Yard Sack',\n",
              "       '21 Yard Run', '-7 Yard Penalty', '-4 Yard Penalty',\n",
              "       'Touchdown Panthers', '9 Yard Penalty', '4 Yard Penalty',\n",
              "       'Touchdown Buccaneers', '20 Yard Run', 'Touchdown Vikings',\n",
              "       '42 Yard Pass', '36 Yard Pass', 'Touchdown Chargers',\n",
              "       '55 Yard Run', '13 Yard Penalty', 'Penalty', 'Touchdown Dolphins',\n",
              "       '28 Yard Pass', '30 Yard Penalty', '47 Yard Pass',\n",
              "       'Touchdown Patriots', '32 Yard Pass', 'Touchdown Eagles',\n",
              "       '-14 Yard Penalty', 'Touchdown Rams', '-15 Yard Penalty',\n",
              "       '44 Yard Pass', '10 Yard Penalty', 'Touchdown Seahawks',\n",
              "       '15 Yard Run', '3 Yard Penalty', 'Touchdown 49ers', '39 Yard Run',\n",
              "       'Touchdown Steelers', '11 Yard Penalty', '29 Yard Run',\n",
              "       'Touchdown Cardinals', 'Touchdown Commanders'], dtype=object)"
            ]
          },
          "metadata": {},
          "execution_count": 11
        }
      ]
    },
    {
      "cell_type": "code",
      "source": [
        "# There are more types of plays that I have not made yet for Week 1.\n",
        "\n",
        "# Looking at all unique play outcomes and categorizing them.\n",
        "# - This type of approach does not feel very flexable because a play outcome can\n",
        "#   arise that has not been seen yet.\n",
        "# - There may be more in the future when working on a full season, let alone all seasons and future games\n",
        "df_2023_pass_week1 = week1_2023_plays[week1_2023_plays['PlayOutcome'].str.contains('Pass')]\n",
        "df_2023_run_week1 = week1_2023_plays[week1_2023_plays['PlayOutcome'].str.contains('Run')]\n",
        "\n",
        "# df_2023_punt_week1 = week1_2023_plays[week1_2023_plays['PlayOutcome'].str.contains('Punt')]\n",
        "# df_2023_sack_week1 = week1_2023_plays[week1_2023_plays['PlayOutcome'].str.contains('Sack')]\n",
        "# df_2023_kickoff_week1 = week1_2023_plays[week1_2023_plays['PlayOutcome'].str.contains('Kickoff')]\n",
        "# df_2023_fumble_week1 = week1_2023_plays[week1_2023_plays['PlayOutcome'].str.contains('Fumble')]\n",
        "# df_2023_interception_week1 = week1_2023_plays[week1_2023_plays['PlayOutcome'].str.contains('Interception')]\n",
        "# df_2023_penalty_week1 = week1_2023_plays[week1_2023_plays['PlayOutcome'].str.contains('Penalty')]\n",
        "# df_2023_fieldgoal_week1 = week1_2023_plays[week1_2023_plays['PlayOutcome'].str.contains('Field Goal')]\n",
        "# df_2023_touchdown_week1 = week1_2023_plays[week1_2023_plays['PlayOutcome'].str.contains('Touchdown')]\n",
        "# df_2023_extrapoint_week1 = week1_2023_plays[week1_2023_plays['PlayOutcome'].str.contains('Extra Point')]\n",
        "\n",
        "# plays_list = [df_2023_pass_sb,\n",
        "#               df_2023_run_sb,\n",
        "#               df_2023_punt_sb,\n",
        "#               df_2023_sack_sb,\n",
        "#               df_2023_kickoff_sb,\n",
        "#               df_2023_fumble_sb,\n",
        "#               df_2023_interception_sb,\n",
        "#               df_2023_penalty_sb,\n",
        "#               df_2023_fieldgoal_sb,\n",
        "#               df_2023_touchdown_sb,\n",
        "#               df_2023_extrapoint_sb]"
      ],
      "metadata": {
        "id": "sYCiceyQRrxl"
      },
      "execution_count": 12,
      "outputs": []
    },
    {
      "cell_type": "markdown",
      "source": [
        "## SANITY CHECK (All Plays Accounted for)\n",
        "- NOT COMPLETE\n",
        "  - Still need to grab other play types"
      ],
      "metadata": {
        "id": "ELSW1R82_TqT"
      }
    },
    {
      "cell_type": "markdown",
      "source": [
        "## HELPER METHODS"
      ],
      "metadata": {
        "id": "uau4ner4_fug"
      }
    },
    {
      "cell_type": "code",
      "source": [
        "# PURPOSE:\n",
        "# - Quick look at a section of plays\n",
        "#   - Ideally the plays that the user wants to break down and clean.\n",
        "# INPUT PARAMETERS:\n",
        "# df_all_plays      - DataFrame - The original dataframe where the desired plays to view came from\n",
        "# df_section_plays  - DataFrame - A section of the original dataframe the user wants to view\n",
        "# RETURN:\n",
        "# - Printing to the console:\n",
        "#   1. index of play\n",
        "#   2. 'PlayDescription' feature of play\n",
        "#   3. 'PlayOutcome' feature of play\n",
        "def print_plays(df_all_plays, df_section_plays):\n",
        "  for idx, value in df_section_plays['PlayOutcome'].items():\n",
        "    print(\"index:\" + str(idx))\n",
        "    play = df_all_plays['PlayDescription'].iloc[idx]\n",
        "    print(play)\n",
        "    print(value)\n",
        "    print()"
      ],
      "metadata": {
        "id": "u8Sza2J8_hwG"
      },
      "execution_count": 13,
      "outputs": []
    },
    {
      "cell_type": "markdown",
      "source": [
        "# Fumbled plays (Pass & Run)\n",
        "- Only looking for fumbled plays"
      ],
      "metadata": {
        "id": "FQyhGxBJ_whg"
      }
    },
    {
      "cell_type": "markdown",
      "source": [
        "## Pass Fumble Plays"
      ],
      "metadata": {
        "id": "DsERZOWJskje"
      }
    },
    {
      "cell_type": "code",
      "source": [
        "# THIS IS ONLY FOR PASSING RIGHT NOW.\n",
        "\n",
        "# Regular expression used to grab QB only fumbles.\n",
        "# Example - \"(14:21) J.Love to CHI 44 for -3 yards\"\n",
        "# NOTE:\n",
        "# - There are other plays that follow this format.\n",
        "#   So far I have seen:\n",
        "#   1. P.Campbell to NYG 33 for -2 yards\n",
        "#      - What looks like to be an ordinary run play\n",
        "qb_fumble = \"[A-Za-z]+\\.[A-Za-z]+-?[A-Za-z]* to [A-Z]+ [0-9]+ for -?[0-9]+ yards$\"\n",
        "\n",
        "# Regular expression used for players who recovered the fumbled ball.\n",
        "# Example: NYG-P.Campbell\n",
        "fumble_recoverer = \"[A-Z]+-[A-Z]+\\.[A-Za-z]+-?[A-Za-z]*\"\n",
        "\n",
        "# PURPOSE:\n",
        "# - Extract fumble data from fumble plays.\n",
        "#   - Goal is to strictly grab data that can only appear during fumbled plays,\n",
        "#     the rest of the data will go down through the pipeline.\n",
        "\n",
        "def extract_fumble_data(play):\n",
        "\n",
        "  # Every action of the play is recorded into sentences that can be broken down.\n",
        "  # - Goal is to strictly grab data that only appears during fumbled plays,\n",
        "  #   the rest will go through the set play type pipeline.\n",
        "  play_elements = play.split(\". \")\n",
        "  # Collecting fumble data in the exact order in which it happened.\n",
        "  extracted_fumble_details = [None] * len(play_elements)\n",
        "  push_back_to_pipeline = []\n",
        "  # When traversing through each element, some elements will singal that\n",
        "  # the next element is a detail exclusively found in fumble plays.\n",
        "  automatic_fumble_detail_add = False\n",
        "\n",
        "  for i in play_elements:\n",
        "    if automatic_fumble_detail_add:\n",
        "      extracted_fumble_details.pop(play_elements.index(i))\n",
        "      extracted_fumble_details.insert(play_elements.index(i), i)\n",
        "      automatic_fumble_detail_add = False\n",
        "      continue\n",
        "    else:\n",
        "      # All plays added to this list, then shaved off if neccessary.\n",
        "      push_back_to_pipeline.append(i)\n",
        "\n",
        "    # QB only fumbles\n",
        "    # (e.g. '(14:21) J.Love to CHI 44 for -3 yards.')\n",
        "    passer = re.findall(qb_fumble, i)\n",
        "    if len(passer) == 1:\n",
        "      # Wanted element (QB only fumble) does not:\n",
        "      # 1. Follow a sentence stating that the ball has been fumbled.\n",
        "      #    - In order to check the previous sentence, we must make sure there\n",
        "      #      is a sentence there to check in the first place.\n",
        "      if play_elements.index(i) > 0 and play_elements[play_elements.index(i)-1].find('FUMBLES') != -1:\n",
        "        continue\n",
        "      else:\n",
        "        push_back_to_pipeline.pop(push_back_to_pipeline.index(i))\n",
        "        extracted_fumble_details.pop(play_elements.index(i))\n",
        "        extracted_fumble_details.insert(play_elements.index(i), i)\n",
        "\n",
        "    # Fumble and recovery\n",
        "    # If the person who recovered the ball then goes on to run the ball after,\n",
        "    # their yardage gained from that run will be automatically added to extracted_fumble_details\n",
        "    if i.find('FUMBLES') != -1:\n",
        "      recoverer = re.findall(fumble_recoverer, i)\n",
        "      if len(recoverer) > 0:\n",
        "        player_who_recovered_ball = recoverer[0][recoverer[0].find(\"-\") + 1:]\n",
        "        try:\n",
        "          if play_elements[play_elements.index(i)+1].find(player_who_recovered_ball) != -1:\n",
        "            automatic_fumble_detail_add = True\n",
        "        except IndexError:\n",
        "          pass\n",
        "      push_back_to_pipeline.pop(push_back_to_pipeline.index(i))\n",
        "      extracted_fumble_details.pop(play_elements.index(i))\n",
        "      extracted_fumble_details.insert(play_elements.index(i), i)\n",
        "\n",
        "    # Reversed\n",
        "    # If play has been reversed, the only offensive stats recorded are the\n",
        "    # sentences that follow the play reversal.\n",
        "    if i.find('REVERSED') != -1:\n",
        "      for j in push_back_to_pipeline:\n",
        "        extracted_fumble_details.pop(play_elements.index(j))\n",
        "        extracted_fumble_details.insert(play_elements.index(j), j)\n",
        "      push_back_to_pipeline.clear()\n",
        "\n",
        "  return extracted_fumble_details, push_back_to_pipeline"
      ],
      "metadata": {
        "id": "CWmHZUK6R9Om"
      },
      "execution_count": 14,
      "outputs": []
    },
    {
      "cell_type": "code",
      "source": [
        "for idx, value in df_2023_pass_week1['PlayOutcome'].items():\n",
        "  play = week1_2023_plays['PlayDescription'].iloc[idx]\n",
        "  if play.find('FUMBLES') != -1:\n",
        "    fumble_details, main_play = extract_fumble_data(play)\n",
        "    print(fumble_details)\n",
        "    print(main_play)\n",
        "    print(\". \".join(main_play))\n",
        "    print(value)\n",
        "    print()"
      ],
      "metadata": {
        "colab": {
          "base_uri": "https://localhost:8080/"
        },
        "id": "8osZi76cUQs2",
        "outputId": "6867dfac-84f2-4eff-813b-95ddb708e116"
      },
      "execution_count": 15,
      "outputs": [
        {
          "output_type": "stream",
          "name": "stdout",
          "text": [
            "['(14:21) J.Love to CHI 44 for -3 yards', 'FUMBLES, and recovers at CHI 46', None]\n",
            "['J.Love pass deep left to L.Musgrave to CHI 4 for 37 yards (T.Stevenson) [D.Walker].']\n",
            "J.Love pass deep left to L.Musgrave to CHI 4 for 37 yards (T.Stevenson) [D.Walker].\n",
            "37 Yard Pass\n",
            "\n",
            "['(14:15) T.Lawrence pass short right to C.Ridley to JAX 47 for 14 yards (R.Thomas, E.Speed)', 'FUMBLES (E.Speed), RECOVERED by IND-E.Speed at IND 49', 'E.Speed ran ob at IND 49 for no gain', 'The Replay Official reviewed the ball was inbounds ruling, and the play was REVERSED', None, 'FUMBLES (E.Speed), ball out of bounds at IND 49', None, None]\n",
            "['T.Lawrence pass short right to C.Ridley to JAX 47 for 14 yards (R.Thomas, E.Speed)', 'IND-K.Moore was injured during the play', 'IND-D.Flowers was injured during the play.']\n",
            "T.Lawrence pass short right to C.Ridley to JAX 47 for 14 yards (R.Thomas, E.Speed). IND-K.Moore was injured during the play. IND-D.Flowers was injured during the play.\n",
            "14 Yard Pass\n",
            "\n",
            "[None, 'FUMBLES (B.Okereke), recovered by DAL-T.Biadasz at NYG 4.']\n",
            "['(11:26) (Shotgun) D.Prescott pass short right to T.Pollard to NYG 12 for 7 yards (B.Okereke)']\n",
            "(11:26) (Shotgun) D.Prescott pass short right to T.Pollard to NYG 12 for 7 yards (B.Okereke)\n",
            "7 Yard Pass\n",
            "\n",
            "[None, 'FUMBLES (M.Bell), recovered by NYG-P.Campbell at NYG 35', 'P.Campbell to NYG 33 for -2 yards', None]\n",
            "['(4:45) (Shotgun) D.Jones pass short left to M.Breida to NYG 43 for 5 yards (M.Bell)', 'Officially, a pass for -3 yards.']\n",
            "(4:45) (Shotgun) D.Jones pass short left to M.Breida to NYG 43 for 5 yards (M.Bell). Officially, a pass for -3 yards.\n",
            "-5 Yard Pass\n",
            "\n",
            "['(6:32) (Shotgun) B.Mayfield pass short middle to C.Otton to MIN 47 for 14 yards (A.Evans)', 'FUMBLES (A.Evans), recovered by TB-T.Palmer at MIN 43', 'Minnesota challenged the pass completion ruling, and the play was REVERSED', None]\n",
            "['(Shotgun) B.Mayfield pass incomplete short middle to C.Otton (A.Evans).']\n",
            "(Shotgun) B.Mayfield pass incomplete short middle to C.Otton (A.Evans).\n",
            "Pass Incomplete\n",
            "\n",
            "['(3:50) (Shotgun) T.Tagovailoa pass short right to S.Ahmed to MIA 26 for 1 yard (J.Taylor)', 'FUMBLES (J.Taylor), RECOVERED by LAC-K.Murray at MIA 24', 'K.Murray for 24 yards, TOUCHDOWN', 'The Replay Official reviewed the pass completion ruling, and the play was REVERSED', None]\n",
            "['(Shotgun) T.Tagovailoa pass incomplete short right to S.Ahmed (J.Taylor).']\n",
            "(Shotgun) T.Tagovailoa pass incomplete short right to S.Ahmed (J.Taylor).\n",
            "Pass Incomplete\n",
            "\n",
            "[None, 'FUMBLES (C.Holcomb), and recovers at SF 39.']\n",
            "['(3:05) (Shotgun) B.Purdy pass short middle to C.McCaffrey to SF 39 for 7 yards (K.Alexander, C.Holcomb) [Ca.Heyward]']\n",
            "(3:05) (Shotgun) B.Purdy pass short middle to C.McCaffrey to SF 39 for 7 yards (K.Alexander, C.Holcomb) [Ca.Heyward]\n",
            "7 Yard Pass\n",
            "\n"
          ]
        }
      ]
    },
    {
      "cell_type": "code",
      "source": [
        "for idx, value in df_2023_pass_week1['PlayOutcome'].items():\n",
        "  play = week1_2023_plays['PlayDescription'].iloc[idx]\n",
        "  if play.find('FUMBLES') != -1:\n",
        "    print(\"index:\" + str(idx))\n",
        "    fumble_play_elements = play.split(\". \")\n",
        "    for i in fumble_play_elements:\n",
        "      print(i)\n",
        "    # print(play)\n",
        "    print(value)\n",
        "    print()"
      ],
      "metadata": {
        "id": "DywsMTxQ_wJt",
        "colab": {
          "base_uri": "https://localhost:8080/"
        },
        "outputId": "a6ad1ea1-e416-4b51-9a03-8c98e16aef48"
      },
      "execution_count": 16,
      "outputs": [
        {
          "output_type": "stream",
          "name": "stdout",
          "text": [
            "index:213\n",
            "(14:21) J.Love to CHI 44 for -3 yards\n",
            "FUMBLES, and recovers at CHI 46\n",
            "J.Love pass deep left to L.Musgrave to CHI 4 for 37 yards (T.Stevenson) [D.Walker].\n",
            "37 Yard Pass\n",
            "\n",
            "index:423\n",
            "(14:15) T.Lawrence pass short right to C.Ridley to JAX 47 for 14 yards (R.Thomas, E.Speed)\n",
            "FUMBLES (E.Speed), RECOVERED by IND-E.Speed at IND 49\n",
            "E.Speed ran ob at IND 49 for no gain\n",
            "The Replay Official reviewed the ball was inbounds ruling, and the play was REVERSED\n",
            "T.Lawrence pass short right to C.Ridley to JAX 47 for 14 yards (R.Thomas, E.Speed)\n",
            "FUMBLES (E.Speed), ball out of bounds at IND 49\n",
            "IND-K.Moore was injured during the play\n",
            "IND-D.Flowers was injured during the play.\n",
            "14 Yard Pass\n",
            "\n",
            "index:872\n",
            "(11:26) (Shotgun) D.Prescott pass short right to T.Pollard to NYG 12 for 7 yards (B.Okereke)\n",
            "FUMBLES (B.Okereke), recovered by DAL-T.Biadasz at NYG 4.\n",
            "7 Yard Pass\n",
            "\n",
            "index:961\n",
            "(4:45) (Shotgun) D.Jones pass short left to M.Breida to NYG 43 for 5 yards (M.Bell)\n",
            "FUMBLES (M.Bell), recovered by NYG-P.Campbell at NYG 35\n",
            "P.Campbell to NYG 33 for -2 yards\n",
            "Officially, a pass for -3 yards.\n",
            "-5 Yard Pass\n",
            "\n",
            "index:1605\n",
            "(6:32) (Shotgun) B.Mayfield pass short middle to C.Otton to MIN 47 for 14 yards (A.Evans)\n",
            "FUMBLES (A.Evans), recovered by TB-T.Palmer at MIN 43\n",
            "Minnesota challenged the pass completion ruling, and the play was REVERSED\n",
            "(Shotgun) B.Mayfield pass incomplete short middle to C.Otton (A.Evans).\n",
            "Pass Incomplete\n",
            "\n",
            "index:1931\n",
            "(3:50) (Shotgun) T.Tagovailoa pass short right to S.Ahmed to MIA 26 for 1 yard (J.Taylor)\n",
            "FUMBLES (J.Taylor), RECOVERED by LAC-K.Murray at MIA 24\n",
            "K.Murray for 24 yards, TOUCHDOWN\n",
            "The Replay Official reviewed the pass completion ruling, and the play was REVERSED\n",
            "(Shotgun) T.Tagovailoa pass incomplete short right to S.Ahmed (J.Taylor).\n",
            "Pass Incomplete\n",
            "\n",
            "index:2295\n",
            "(3:05) (Shotgun) B.Purdy pass short middle to C.McCaffrey to SF 39 for 7 yards (K.Alexander, C.Holcomb) [Ca.Heyward]\n",
            "FUMBLES (C.Holcomb), and recovers at SF 39.\n",
            "7 Yard Pass\n",
            "\n"
          ]
        }
      ]
    },
    {
      "cell_type": "markdown",
      "source": [
        "##Run Fumble Plays"
      ],
      "metadata": {
        "id": "K5cZryPjsnxd"
      }
    },
    {
      "cell_type": "code",
      "source": [
        "# extracted_fumble_details\n",
        "# -\n",
        "\n",
        "# ???\n",
        "# - 'Aborted' - Automatic run for no gain?\n",
        "\n",
        "# push_back_to_pipeline\n",
        "# - traditional run play - (e.g. (9:54) Bre.Hall left end to BUF 22 for -1 yards (G.Rousseau))\n",
        "# - traditional run play - (6:33) (No Huddle, Shotgun) L.Jackson scrambles right end to HOU 20 for 6 yards (T.Thomas)\n",
        "# - (1:39) J.Williams right tackle to TEN 9 for 11 yards (K.Byard, S.Murphy-Bunting)"
      ],
      "metadata": {
        "id": "A6mdHP3SzJ-r"
      },
      "execution_count": 17,
      "outputs": []
    },
    {
      "cell_type": "code",
      "source": [
        "for idx, value in df_2023_run_week1['PlayOutcome'].items():\n",
        "  play = week1_2023_plays['PlayDescription'].iloc[idx]\n",
        "  if play.find('FUMBLES') != -1:\n",
        "    print(\"index:\" + str(idx))\n",
        "    fumble_play_elements = play.split(\". \")\n",
        "    for i in fumble_play_elements:\n",
        "      print(i)\n",
        "    # print(play)\n",
        "    print(value)\n",
        "    print()"
      ],
      "metadata": {
        "colab": {
          "base_uri": "https://localhost:8080/"
        },
        "id": "X5lf3BOSsquL",
        "outputId": "0fc2ddfd-1a65-4bde-827a-425efa0f15e2"
      },
      "execution_count": 18,
      "outputs": [
        {
          "output_type": "stream",
          "name": "stdout",
          "text": [
            "index:115\n",
            "(9:54) Bre.Hall left end to BUF 22 for -1 yards (G.Rousseau)\n",
            "FUMBLES (G.Rousseau), ball out of bounds at BUF 25.\n",
            "-4 Yard Run\n",
            "\n",
            "index:230\n",
            "(2:08) S.Clifford FUMBLES (Aborted) at CHI 35, and recovers at CHI 35.\n",
            "Run for No Gain\n",
            "\n",
            "index:756\n",
            "(6:44) (Shotgun) J.Goff Aborted\n",
            "F.Ragnow FUMBLES at KC 24, recovered by DET-J.Goff at KC 27\n",
            "J.Goff to KC 27 for no gain (G.Karlaftis).\n",
            "Run for No Gain\n",
            "\n",
            "index:826\n",
            "(8:53) (Shotgun) D.Jones Aborted\n",
            "J.Schmitz FUMBLES at DAL 18, recovered by NYG-D.Jones at DAL 27.\n",
            "Run for No Gain\n",
            "\n",
            "index:933\n",
            "(9:27) (Shotgun) D.Jones FUMBLES (Aborted) at NYG 30, and recovers at NYG 30\n",
            "D.Jones to NYG 32 for 2 yards (M.Smith).\n",
            "Run for No Gain\n",
            "\n",
            "index:1015\n",
            "(6:33) (No Huddle, Shotgun) L.Jackson scrambles right end to HOU 20 for 6 yards (T.Thomas)\n",
            "FUMBLES (T.Thomas), recovered by BAL-K.Zeitler at HOU 23\n",
            "HOU-H.Ridgeway was injured during the play.\n",
            "3 Yard Run\n",
            "\n",
            "index:1214\n",
            "(1:39) J.Williams right tackle to TEN 9 for 11 yards (K.Byard, S.Murphy-Bunting)\n",
            "FUMBLES (S.Murphy-Bunting), and recovers at TEN 9.\n",
            "11 Yard Run\n",
            "\n",
            "index:1343\n",
            "(3:02) T.Munford reported in as eligible\n",
            " J.Garoppolo FUMBLES (Aborted) at DEN 1, and recovers at DEN 1.\n",
            "Run for No Gain\n",
            "\n",
            "index:1512\n",
            "(10:16) (Shotgun) B.Young to ATL 38 for -5 yards\n",
            "FUMBLES, and recovers at ATL 36\n",
            "B.Young to ATL 36 for no gain (T.Andersen).\n",
            "-3 Yard Run\n",
            "\n",
            "index:1921\n",
            "(13:56) (Shotgun) T.Tagovailoa FUMBLES (Aborted) at MIA 20, touched at MIA 20, and recovers at MIA 20.\n",
            "Run for No Gain\n",
            "\n"
          ]
        }
      ]
    },
    {
      "cell_type": "code",
      "source": [
        "# NOTES:\n",
        "# 'Aborted' plays:\n",
        "# - I am assuming that each play that has been \"aborted\" will end up as a run play\n",
        "#   that has an outcome of \"run for no gain\"\n",
        "#   - This may not be true but will have to check this at the end.\n",
        "# Yardage for a player who recovers a fumble\n",
        "# - Will be recorded as 0\n",
        "\n",
        "# - Need to add a continue after every check to be sure that a single sentence\n",
        "#   does not have multiple categories it can fit into.\n",
        "\n",
        "\n",
        "qb_fumble = \"[A-Za-z]+\\.[A-Za-z]+-?[A-Za-z]* to [A-Z]+ [0-9]+ for -?[0-9]+ yards$\"\n",
        "\n",
        "fumble_recoverer = \"[A-Z]+-[A-Z]+\\.[A-Za-z]+-?[A-Za-z]*\"\n",
        "\n",
        "def extract_fumble_data_run(play):\n",
        "  play_elements = play.split(\". \")\n",
        "  extracted_fumble_details = [None] * len(play_elements)\n",
        "  push_back_to_pipeline = []\n",
        "  automatic_fumble_detail_add = False\n",
        "\n",
        "  for i in play_elements:\n",
        "    if automatic_fumble_detail_add:\n",
        "      extracted_fumble_details.pop(play_elements.index(i))\n",
        "      extracted_fumble_details.insert(play_elements.index(i), i)\n",
        "      automatic_fumble_detail_add = False\n",
        "      continue\n",
        "    else:\n",
        "      push_back_to_pipeline.append(i)\n",
        "\n",
        "    passer = re.findall(qb_fumble, i)\n",
        "    if len(passer) == 1:\n",
        "      if play_elements.index(i) > 0 and play_elements[play_elements.index(i)-1].find('FUMBLES') != -1:\n",
        "        continue\n",
        "      else:\n",
        "        push_back_to_pipeline.pop(push_back_to_pipeline.index(i))\n",
        "        extracted_fumble_details.pop(play_elements.index(i))\n",
        "        extracted_fumble_details.insert(play_elements.index(i), i)\n",
        "\n",
        "    # The reason that I am putting all Aborted plays into extracted_fumble_details\n",
        "    # is because when a play has been aborted, I believe the intended play has been\n",
        "    # compromised. This means that the stats collected will not be collected and\n",
        "    # effect anyones personal offensive stats?\n",
        "    # - I am thinking of if there is a touchdown after an aborted fumble recovery.\n",
        "    #   - this would cause an issue because maybe that should be added to the personal\n",
        "    #     offensive stats?\n",
        "    # - Another thing is that when a play has been aborted, I need to push that this\n",
        "    #   would be considered a \"Run For No Gain\"\n",
        "    #   - Meaning I would need to add details to features within cleaned dataframe\n",
        "    #     such as '0' for yards rushed.\n",
        "    if i.find('Aborted') != -1:\n",
        "      push_back_to_pipeline.pop(push_back_to_pipeline.index(i))\n",
        "      extracted_fumble_details.pop(play_elements.index(i))\n",
        "      extracted_fumble_details.insert(play_elements.index(i), i)\n",
        "      continue\n",
        "\n",
        "    # I may have to change this to add some plays that do count towards yards gained\n",
        "    # after fumble recovery.\n",
        "    if i.find('FUMBLES') != -1:\n",
        "      recoverer = re.findall(fumble_recoverer, i)\n",
        "      if len(recoverer) > 0:\n",
        "        player_who_recovered_ball = recoverer[0][recoverer[0].find(\"-\") + 1:]\n",
        "        try:\n",
        "          if play_elements[play_elements.index(i)+1].find(player_who_recovered_ball) != -1:\n",
        "            automatic_fumble_detail_add = True\n",
        "        except IndexError:\n",
        "          pass\n",
        "      push_back_to_pipeline.pop(push_back_to_pipeline.index(i))\n",
        "      extracted_fumble_details.pop(play_elements.index(i))\n",
        "      extracted_fumble_details.insert(play_elements.index(i), i)\n",
        "\n",
        "    if i.find('REVERSED') != -1:\n",
        "      for j in push_back_to_pipeline:\n",
        "        extracted_fumble_details.pop(play_elements.index(j))\n",
        "        extracted_fumble_details.insert(play_elements.index(j), j)\n",
        "      push_back_to_pipeline.clear()\n",
        "\n",
        "  return extracted_fumble_details, push_back_to_pipeline"
      ],
      "metadata": {
        "id": "KWzG7DlFTiVO"
      },
      "execution_count": 39,
      "outputs": []
    },
    {
      "cell_type": "code",
      "source": [
        "for idx, value in df_2023_run_week1['PlayOutcome'].items():\n",
        "  play = week1_2023_plays['PlayDescription'].iloc[idx]\n",
        "  if play.find('FUMBLES') != -1:\n",
        "    if play.find('Aborted') != -1:\n",
        "      fumble_details, main_play = extract_fumble_data_run(play)\n",
        "      # print(fumble_details)\n",
        "      # print(main_play)\n",
        "      # print(\". \".join(main_play))\n",
        "      print(play)\n",
        "      print(value)\n",
        "      print()"
      ],
      "metadata": {
        "colab": {
          "base_uri": "https://localhost:8080/"
        },
        "id": "9-3VYzJrVZnx",
        "outputId": "afaa47ba-8fa4-49be-8b7b-f8d1f916408c"
      },
      "execution_count": 42,
      "outputs": [
        {
          "output_type": "stream",
          "name": "stdout",
          "text": [
            "(2:08) S.Clifford FUMBLES (Aborted) at CHI 35, and recovers at CHI 35.\n",
            "Run for No Gain\n",
            "\n",
            "(6:44) (Shotgun) J.Goff Aborted. F.Ragnow FUMBLES at KC 24, recovered by DET-J.Goff at KC 27. J.Goff to KC 27 for no gain (G.Karlaftis).\n",
            "Run for No Gain\n",
            "\n",
            "(8:53) (Shotgun) D.Jones Aborted. J.Schmitz FUMBLES at DAL 18, recovered by NYG-D.Jones at DAL 27.\n",
            "Run for No Gain\n",
            "\n",
            "(9:27) (Shotgun) D.Jones FUMBLES (Aborted) at NYG 30, and recovers at NYG 30. D.Jones to NYG 32 for 2 yards (M.Smith).\n",
            "Run for No Gain\n",
            "\n",
            "(3:02) T.Munford reported in as eligible.  J.Garoppolo FUMBLES (Aborted) at DEN 1, and recovers at DEN 1.\n",
            "Run for No Gain\n",
            "\n",
            "(13:56) (Shotgun) T.Tagovailoa FUMBLES (Aborted) at MIA 20, touched at MIA 20, and recovers at MIA 20.\n",
            "Run for No Gain\n",
            "\n"
          ]
        }
      ]
    },
    {
      "cell_type": "code",
      "source": [
        "for idx, value in df_2023_run_week1['PlayOutcome'].items():\n",
        "  play = week1_2023_plays['PlayDescription'].iloc[idx]\n",
        "  if play.find('Aborted') != -1:\n",
        "    print(\"index:\" + str(idx))\n",
        "    fumble_play_elements = play.split(\". \")\n",
        "    for i in fumble_play_elements:\n",
        "      print(i)\n",
        "    # print(play)\n",
        "    print(value)\n",
        "    print()"
      ],
      "metadata": {
        "colab": {
          "base_uri": "https://localhost:8080/"
        },
        "id": "3fI9cCJjw7rO",
        "outputId": "624f32c4-b546-42cb-a0c6-13962111adc4"
      },
      "execution_count": 21,
      "outputs": [
        {
          "output_type": "stream",
          "name": "stdout",
          "text": [
            "index:230\n",
            "(2:08) S.Clifford FUMBLES (Aborted) at CHI 35, and recovers at CHI 35.\n",
            "Run for No Gain\n",
            "\n",
            "index:756\n",
            "(6:44) (Shotgun) J.Goff Aborted\n",
            "F.Ragnow FUMBLES at KC 24, recovered by DET-J.Goff at KC 27\n",
            "J.Goff to KC 27 for no gain (G.Karlaftis).\n",
            "Run for No Gain\n",
            "\n",
            "index:826\n",
            "(8:53) (Shotgun) D.Jones Aborted\n",
            "J.Schmitz FUMBLES at DAL 18, recovered by NYG-D.Jones at DAL 27.\n",
            "Run for No Gain\n",
            "\n",
            "index:933\n",
            "(9:27) (Shotgun) D.Jones FUMBLES (Aborted) at NYG 30, and recovers at NYG 30\n",
            "D.Jones to NYG 32 for 2 yards (M.Smith).\n",
            "Run for No Gain\n",
            "\n",
            "index:1343\n",
            "(3:02) T.Munford reported in as eligible\n",
            " J.Garoppolo FUMBLES (Aborted) at DEN 1, and recovers at DEN 1.\n",
            "Run for No Gain\n",
            "\n",
            "index:1921\n",
            "(13:56) (Shotgun) T.Tagovailoa FUMBLES (Aborted) at MIA 20, touched at MIA 20, and recovers at MIA 20.\n",
            "Run for No Gain\n",
            "\n"
          ]
        }
      ]
    },
    {
      "cell_type": "code",
      "source": [
        "#\n",
        "\n",
        "week1_2023_plays.iloc[933]"
      ],
      "metadata": {
        "colab": {
          "base_uri": "https://localhost:8080/",
          "height": 554
        },
        "id": "Cka1tEjtEc8h",
        "outputId": "2435a4a4-67c6-4f54-ef57-7fa5c4bf4fd6"
      },
      "execution_count": 22,
      "outputs": [
        {
          "output_type": "execute_result",
          "data": {
            "text/plain": [
              "Season                                                             2023\n",
              "Week                                                             Week 1\n",
              "Day                                                                 SUN\n",
              "Date                                                              09/10\n",
              "AwayTeam                                                        Cowboys\n",
              "HomeTeam                                                         Giants\n",
              "Quarter                                                     3RD QUARTER\n",
              "DriveNumber                                                           2\n",
              "TeamWithPossession                                                  NYG\n",
              "IsScoringDrive                                                        0\n",
              "PlayNumberInDrive                                                     3\n",
              "IsScoringPlay                                                         0\n",
              "PlayOutcome                                             Run for No Gain\n",
              "PlayDescription       (9:27) (Shotgun) D.Jones FUMBLES (Aborted) at ...\n",
              "PlayStart                                             2nd & 1 at NYG 34\n",
              "Name: 933, dtype: object"
            ],
            "text/html": [
              "<div>\n",
              "<style scoped>\n",
              "    .dataframe tbody tr th:only-of-type {\n",
              "        vertical-align: middle;\n",
              "    }\n",
              "\n",
              "    .dataframe tbody tr th {\n",
              "        vertical-align: top;\n",
              "    }\n",
              "\n",
              "    .dataframe thead th {\n",
              "        text-align: right;\n",
              "    }\n",
              "</style>\n",
              "<table border=\"1\" class=\"dataframe\">\n",
              "  <thead>\n",
              "    <tr style=\"text-align: right;\">\n",
              "      <th></th>\n",
              "      <th>933</th>\n",
              "    </tr>\n",
              "  </thead>\n",
              "  <tbody>\n",
              "    <tr>\n",
              "      <th>Season</th>\n",
              "      <td>2023</td>\n",
              "    </tr>\n",
              "    <tr>\n",
              "      <th>Week</th>\n",
              "      <td>Week 1</td>\n",
              "    </tr>\n",
              "    <tr>\n",
              "      <th>Day</th>\n",
              "      <td>SUN</td>\n",
              "    </tr>\n",
              "    <tr>\n",
              "      <th>Date</th>\n",
              "      <td>09/10</td>\n",
              "    </tr>\n",
              "    <tr>\n",
              "      <th>AwayTeam</th>\n",
              "      <td>Cowboys</td>\n",
              "    </tr>\n",
              "    <tr>\n",
              "      <th>HomeTeam</th>\n",
              "      <td>Giants</td>\n",
              "    </tr>\n",
              "    <tr>\n",
              "      <th>Quarter</th>\n",
              "      <td>3RD QUARTER</td>\n",
              "    </tr>\n",
              "    <tr>\n",
              "      <th>DriveNumber</th>\n",
              "      <td>2</td>\n",
              "    </tr>\n",
              "    <tr>\n",
              "      <th>TeamWithPossession</th>\n",
              "      <td>NYG</td>\n",
              "    </tr>\n",
              "    <tr>\n",
              "      <th>IsScoringDrive</th>\n",
              "      <td>0</td>\n",
              "    </tr>\n",
              "    <tr>\n",
              "      <th>PlayNumberInDrive</th>\n",
              "      <td>3</td>\n",
              "    </tr>\n",
              "    <tr>\n",
              "      <th>IsScoringPlay</th>\n",
              "      <td>0</td>\n",
              "    </tr>\n",
              "    <tr>\n",
              "      <th>PlayOutcome</th>\n",
              "      <td>Run for No Gain</td>\n",
              "    </tr>\n",
              "    <tr>\n",
              "      <th>PlayDescription</th>\n",
              "      <td>(9:27) (Shotgun) D.Jones FUMBLES (Aborted) at ...</td>\n",
              "    </tr>\n",
              "    <tr>\n",
              "      <th>PlayStart</th>\n",
              "      <td>2nd &amp; 1 at NYG 34</td>\n",
              "    </tr>\n",
              "  </tbody>\n",
              "</table>\n",
              "</div><br><label><b>dtype:</b> object</label>"
            ]
          },
          "metadata": {},
          "execution_count": 22
        }
      ]
    }
  ]
}