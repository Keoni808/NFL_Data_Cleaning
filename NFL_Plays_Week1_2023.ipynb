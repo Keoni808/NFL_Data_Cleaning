{
  "nbformat": 4,
  "nbformat_minor": 0,
  "metadata": {
    "colab": {
      "provenance": [],
      "collapsed_sections": [
        "ciN_CS4bOcpV",
        "rTlTgrlpO_q1",
        "6G8yilnkRcZu",
        "uau4ner4_fug",
        "DsERZOWJskje"
      ],
      "authorship_tag": "ABX9TyPH4oV4E93BclN3hhw/swzA",
      "include_colab_link": true
    },
    "kernelspec": {
      "name": "python3",
      "display_name": "Python 3"
    },
    "language_info": {
      "name": "python"
    }
  },
  "cells": [
    {
      "cell_type": "markdown",
      "metadata": {
        "id": "view-in-github",
        "colab_type": "text"
      },
      "source": [
        "<a href=\"https://colab.research.google.com/github/Keoni808/NFL_Data_Cleaning/blob/main/NFL_Plays_Week1_2023.ipynb\" target=\"_parent\"><img src=\"https://colab.research.google.com/assets/colab-badge.svg\" alt=\"Open In Colab\"/></a>"
      ]
    },
    {
      "cell_type": "markdown",
      "source": [
        "PURPOSE:\n",
        "- To view a larger sample size of plays.\n",
        "  - Currently working on breaking down a single game but do not have enough data in that game to correctly break down all play descriptions for different play types.\n",
        "\n",
        "NOTES:"
      ],
      "metadata": {
        "id": "bDIp3ojKOdg2"
      }
    },
    {
      "cell_type": "markdown",
      "source": [
        "# MOUNTING AND IMPORTS"
      ],
      "metadata": {
        "id": "ciN_CS4bOcpV"
      }
    },
    {
      "cell_type": "code",
      "execution_count": 1,
      "metadata": {
        "colab": {
          "base_uri": "https://localhost:8080/"
        },
        "id": "ZS3J98keONRD",
        "outputId": "3717b99b-443d-4e3d-87fb-40269c7308d6"
      },
      "outputs": [
        {
          "output_type": "stream",
          "name": "stdout",
          "text": [
            "Mounted at /content/drive\n"
          ]
        }
      ],
      "source": [
        "# Mount your Google Drive\n",
        "from google.colab import drive\n",
        "drive.mount('/content/drive')"
      ]
    },
    {
      "cell_type": "code",
      "source": [
        "# Used to access personal google cloud services\n",
        "from google.colab import auth\n",
        "auth.authenticate_user()\n",
        "print('Authenticated')"
      ],
      "metadata": {
        "colab": {
          "base_uri": "https://localhost:8080/"
        },
        "id": "7gLupTRXO5gw",
        "outputId": "d877bece-d61d-4ee0-ebcb-403fb28eff31"
      },
      "execution_count": 2,
      "outputs": [
        {
          "output_type": "stream",
          "name": "stdout",
          "text": [
            "Authenticated\n"
          ]
        }
      ]
    },
    {
      "cell_type": "code",
      "source": [
        "# Installs\n",
        "!pip install ipdb"
      ],
      "metadata": {
        "colab": {
          "base_uri": "https://localhost:8080/"
        },
        "id": "Xf2EJPBthkba",
        "outputId": "c5379458-2d18-4a9c-b795-410cc9d14383"
      },
      "execution_count": 3,
      "outputs": [
        {
          "output_type": "stream",
          "name": "stdout",
          "text": [
            "Collecting ipdb\n",
            "  Downloading ipdb-0.13.13-py3-none-any.whl.metadata (14 kB)\n",
            "Requirement already satisfied: ipython>=7.31.1 in /usr/local/lib/python3.10/dist-packages (from ipdb) (7.34.0)\n",
            "Requirement already satisfied: tomli in /usr/local/lib/python3.10/dist-packages (from ipdb) (2.0.1)\n",
            "Requirement already satisfied: decorator in /usr/local/lib/python3.10/dist-packages (from ipdb) (4.4.2)\n",
            "Requirement already satisfied: setuptools>=18.5 in /usr/local/lib/python3.10/dist-packages (from ipython>=7.31.1->ipdb) (71.0.4)\n",
            "Collecting jedi>=0.16 (from ipython>=7.31.1->ipdb)\n",
            "  Using cached jedi-0.19.1-py2.py3-none-any.whl.metadata (22 kB)\n",
            "Requirement already satisfied: pickleshare in /usr/local/lib/python3.10/dist-packages (from ipython>=7.31.1->ipdb) (0.7.5)\n",
            "Requirement already satisfied: traitlets>=4.2 in /usr/local/lib/python3.10/dist-packages (from ipython>=7.31.1->ipdb) (5.7.1)\n",
            "Requirement already satisfied: prompt-toolkit!=3.0.0,!=3.0.1,<3.1.0,>=2.0.0 in /usr/local/lib/python3.10/dist-packages (from ipython>=7.31.1->ipdb) (3.0.47)\n",
            "Requirement already satisfied: pygments in /usr/local/lib/python3.10/dist-packages (from ipython>=7.31.1->ipdb) (2.18.0)\n",
            "Requirement already satisfied: backcall in /usr/local/lib/python3.10/dist-packages (from ipython>=7.31.1->ipdb) (0.2.0)\n",
            "Requirement already satisfied: matplotlib-inline in /usr/local/lib/python3.10/dist-packages (from ipython>=7.31.1->ipdb) (0.1.7)\n",
            "Requirement already satisfied: pexpect>4.3 in /usr/local/lib/python3.10/dist-packages (from ipython>=7.31.1->ipdb) (4.9.0)\n",
            "Requirement already satisfied: parso<0.9.0,>=0.8.3 in /usr/local/lib/python3.10/dist-packages (from jedi>=0.16->ipython>=7.31.1->ipdb) (0.8.4)\n",
            "Requirement already satisfied: ptyprocess>=0.5 in /usr/local/lib/python3.10/dist-packages (from pexpect>4.3->ipython>=7.31.1->ipdb) (0.7.0)\n",
            "Requirement already satisfied: wcwidth in /usr/local/lib/python3.10/dist-packages (from prompt-toolkit!=3.0.0,!=3.0.1,<3.1.0,>=2.0.0->ipython>=7.31.1->ipdb) (0.2.13)\n",
            "Downloading ipdb-0.13.13-py3-none-any.whl (12 kB)\n",
            "Using cached jedi-0.19.1-py2.py3-none-any.whl (1.6 MB)\n",
            "Installing collected packages: jedi, ipdb\n",
            "Successfully installed ipdb-0.13.13 jedi-0.19.1\n"
          ]
        }
      ]
    },
    {
      "cell_type": "code",
      "source": [
        "# Imports\n",
        "\n",
        "# Data manipulation\n",
        "import pandas as pd\n",
        "\n",
        "# Regular expressions\n",
        "import re\n",
        "\n",
        "# Grab data from database\n",
        "from google.cloud import bigquery\n",
        "\n",
        "# # Debugging (Not going to use right now)\n",
        "# import ipdb"
      ],
      "metadata": {
        "id": "1YadW6p7O7Lf"
      },
      "execution_count": 4,
      "outputs": []
    },
    {
      "cell_type": "code",
      "source": [
        "# # Turning on automatic debugger\n",
        "# %pdb on"
      ],
      "metadata": {
        "id": "jKpGDloBiQN8"
      },
      "execution_count": 5,
      "outputs": []
    },
    {
      "cell_type": "markdown",
      "source": [
        "# LOADING DATA (BigQuery queries)"
      ],
      "metadata": {
        "id": "rTlTgrlpO_q1"
      }
    },
    {
      "cell_type": "code",
      "source": [
        "# Client connect to bigquery project\n",
        "client = bigquery.Client('nfl-data-430702')"
      ],
      "metadata": {
        "id": "W05L1TH6PAcb"
      },
      "execution_count": 6,
      "outputs": []
    },
    {
      "cell_type": "markdown",
      "source": [
        "## Season 2023 Week 1"
      ],
      "metadata": {
        "id": "HPdKuDJJPIUZ"
      }
    },
    {
      "cell_type": "code",
      "source": [
        "# Grabbing all plays from Super Bowl 2023\n",
        "week1_2023_plays_query = \"\"\"\n",
        "                         SELECT *\n",
        "                         FROM `nfl-data-430702.NFL_Scores.NFL-Plays-Week1_2023`\n",
        "                         \"\"\"\n",
        "\n",
        "# Running psuedo query, and returns the amount of bytes it will take to run query\n",
        "dry_run_config = bigquery.QueryJobConfig(dry_run=True)\n",
        "dry_run_query = client.query(week1_2023_plays_query, job_config=dry_run_config)\n",
        "print(\"This query will process {} bytes.\".format(dry_run_query.total_bytes_processed))\n",
        "\n",
        "# Running query (Being mindful of the amount of data being grabbed)\n",
        "# Will grab a maximum of a Gigabyte\n",
        "safe_config = bigquery.QueryJobConfig(maximum_bytes_billed=10**9)\n",
        "safe_config_query = client.query(week1_2023_plays_query, job_config=safe_config)"
      ],
      "metadata": {
        "colab": {
          "base_uri": "https://localhost:8080/"
        },
        "id": "gnOg_zdhPLHi",
        "outputId": "a6ce9033-5762-4654-a3a0-8741d04fd5ea"
      },
      "execution_count": 7,
      "outputs": [
        {
          "output_type": "stream",
          "name": "stdout",
          "text": [
            "This query will process 570194 bytes.\n"
          ]
        }
      ]
    },
    {
      "cell_type": "code",
      "source": [
        "# Putting data attained from query into a dataframe\n",
        "week1_2023_plays = safe_config_query.to_dataframe()"
      ],
      "metadata": {
        "id": "27xLLVO6PfSJ"
      },
      "execution_count": 52,
      "outputs": []
    },
    {
      "cell_type": "code",
      "source": [
        "week1_2023_plays.head()"
      ],
      "metadata": {
        "colab": {
          "base_uri": "https://localhost:8080/",
          "height": 362
        },
        "id": "pJP-0GxhPhI_",
        "outputId": "876ba98e-f0f0-43d5-9e26-de134d4287ec"
      },
      "execution_count": 9,
      "outputs": [
        {
          "output_type": "execute_result",
          "data": {
            "text/plain": [
              "   Season    Week  Day   Date AwayTeam HomeTeam      Quarter  DriveNumber  \\\n",
              "0    2023  Week 1  MON  09/11    Bills     Jets  1ST QUARTER            1   \n",
              "1    2023  Week 1  MON  09/11    Bills     Jets  1ST QUARTER            1   \n",
              "2    2023  Week 1  MON  09/11    Bills     Jets  1ST QUARTER            1   \n",
              "3    2023  Week 1  MON  09/11    Bills     Jets  1ST QUARTER            1   \n",
              "4    2023  Week 1  MON  09/11    Bills     Jets  1ST QUARTER            1   \n",
              "\n",
              "  TeamWithPossession  IsScoringDrive  PlayNumberInDrive  IsScoringPlay  \\\n",
              "0                BUF               0                  1              0   \n",
              "1                BUF               0                  2              0   \n",
              "2                BUF               0                  3              0   \n",
              "3                BUF               0                  4              0   \n",
              "4                BUF               0                  5              0   \n",
              "\n",
              "   PlayOutcome                                    PlayDescription  \\\n",
              "0      Kickoff  G.Zuerlein kicks 65 yards from NYJ 35 to end z...   \n",
              "1  7 Yard Pass  (15:00) (Shotgun) J.Allen pass short right to ...   \n",
              "2  5 Yard Pass  (14:34) (No Huddle, Shotgun) J.Allen pass shor...   \n",
              "3   3 Yard Run  (14:01) J.Cook up the middle to BUF 40 for 3 y...   \n",
              "4   2 Yard Run  (13:24) (Shotgun) J.Cook up the middle to BUF ...   \n",
              "\n",
              "             PlayStart  \n",
              "0  Kickoff from NYJ 35  \n",
              "1   1st & 10 at BUF 25  \n",
              "2    2nd & 3 at BUF 32  \n",
              "3   1st & 10 at BUF 37  \n",
              "4    2nd & 7 at BUF 40  "
            ],
            "text/html": [
              "\n",
              "  <div id=\"df-613e22f9-e105-4eae-816b-a24886f46802\" class=\"colab-df-container\">\n",
              "    <div>\n",
              "<style scoped>\n",
              "    .dataframe tbody tr th:only-of-type {\n",
              "        vertical-align: middle;\n",
              "    }\n",
              "\n",
              "    .dataframe tbody tr th {\n",
              "        vertical-align: top;\n",
              "    }\n",
              "\n",
              "    .dataframe thead th {\n",
              "        text-align: right;\n",
              "    }\n",
              "</style>\n",
              "<table border=\"1\" class=\"dataframe\">\n",
              "  <thead>\n",
              "    <tr style=\"text-align: right;\">\n",
              "      <th></th>\n",
              "      <th>Season</th>\n",
              "      <th>Week</th>\n",
              "      <th>Day</th>\n",
              "      <th>Date</th>\n",
              "      <th>AwayTeam</th>\n",
              "      <th>HomeTeam</th>\n",
              "      <th>Quarter</th>\n",
              "      <th>DriveNumber</th>\n",
              "      <th>TeamWithPossession</th>\n",
              "      <th>IsScoringDrive</th>\n",
              "      <th>PlayNumberInDrive</th>\n",
              "      <th>IsScoringPlay</th>\n",
              "      <th>PlayOutcome</th>\n",
              "      <th>PlayDescription</th>\n",
              "      <th>PlayStart</th>\n",
              "    </tr>\n",
              "  </thead>\n",
              "  <tbody>\n",
              "    <tr>\n",
              "      <th>0</th>\n",
              "      <td>2023</td>\n",
              "      <td>Week 1</td>\n",
              "      <td>MON</td>\n",
              "      <td>09/11</td>\n",
              "      <td>Bills</td>\n",
              "      <td>Jets</td>\n",
              "      <td>1ST QUARTER</td>\n",
              "      <td>1</td>\n",
              "      <td>BUF</td>\n",
              "      <td>0</td>\n",
              "      <td>1</td>\n",
              "      <td>0</td>\n",
              "      <td>Kickoff</td>\n",
              "      <td>G.Zuerlein kicks 65 yards from NYJ 35 to end z...</td>\n",
              "      <td>Kickoff from NYJ 35</td>\n",
              "    </tr>\n",
              "    <tr>\n",
              "      <th>1</th>\n",
              "      <td>2023</td>\n",
              "      <td>Week 1</td>\n",
              "      <td>MON</td>\n",
              "      <td>09/11</td>\n",
              "      <td>Bills</td>\n",
              "      <td>Jets</td>\n",
              "      <td>1ST QUARTER</td>\n",
              "      <td>1</td>\n",
              "      <td>BUF</td>\n",
              "      <td>0</td>\n",
              "      <td>2</td>\n",
              "      <td>0</td>\n",
              "      <td>7 Yard Pass</td>\n",
              "      <td>(15:00) (Shotgun) J.Allen pass short right to ...</td>\n",
              "      <td>1st &amp; 10 at BUF 25</td>\n",
              "    </tr>\n",
              "    <tr>\n",
              "      <th>2</th>\n",
              "      <td>2023</td>\n",
              "      <td>Week 1</td>\n",
              "      <td>MON</td>\n",
              "      <td>09/11</td>\n",
              "      <td>Bills</td>\n",
              "      <td>Jets</td>\n",
              "      <td>1ST QUARTER</td>\n",
              "      <td>1</td>\n",
              "      <td>BUF</td>\n",
              "      <td>0</td>\n",
              "      <td>3</td>\n",
              "      <td>0</td>\n",
              "      <td>5 Yard Pass</td>\n",
              "      <td>(14:34) (No Huddle, Shotgun) J.Allen pass shor...</td>\n",
              "      <td>2nd &amp; 3 at BUF 32</td>\n",
              "    </tr>\n",
              "    <tr>\n",
              "      <th>3</th>\n",
              "      <td>2023</td>\n",
              "      <td>Week 1</td>\n",
              "      <td>MON</td>\n",
              "      <td>09/11</td>\n",
              "      <td>Bills</td>\n",
              "      <td>Jets</td>\n",
              "      <td>1ST QUARTER</td>\n",
              "      <td>1</td>\n",
              "      <td>BUF</td>\n",
              "      <td>0</td>\n",
              "      <td>4</td>\n",
              "      <td>0</td>\n",
              "      <td>3 Yard Run</td>\n",
              "      <td>(14:01) J.Cook up the middle to BUF 40 for 3 y...</td>\n",
              "      <td>1st &amp; 10 at BUF 37</td>\n",
              "    </tr>\n",
              "    <tr>\n",
              "      <th>4</th>\n",
              "      <td>2023</td>\n",
              "      <td>Week 1</td>\n",
              "      <td>MON</td>\n",
              "      <td>09/11</td>\n",
              "      <td>Bills</td>\n",
              "      <td>Jets</td>\n",
              "      <td>1ST QUARTER</td>\n",
              "      <td>1</td>\n",
              "      <td>BUF</td>\n",
              "      <td>0</td>\n",
              "      <td>5</td>\n",
              "      <td>0</td>\n",
              "      <td>2 Yard Run</td>\n",
              "      <td>(13:24) (Shotgun) J.Cook up the middle to BUF ...</td>\n",
              "      <td>2nd &amp; 7 at BUF 40</td>\n",
              "    </tr>\n",
              "  </tbody>\n",
              "</table>\n",
              "</div>\n",
              "    <div class=\"colab-df-buttons\">\n",
              "\n",
              "  <div class=\"colab-df-container\">\n",
              "    <button class=\"colab-df-convert\" onclick=\"convertToInteractive('df-613e22f9-e105-4eae-816b-a24886f46802')\"\n",
              "            title=\"Convert this dataframe to an interactive table.\"\n",
              "            style=\"display:none;\">\n",
              "\n",
              "  <svg xmlns=\"http://www.w3.org/2000/svg\" height=\"24px\" viewBox=\"0 -960 960 960\">\n",
              "    <path d=\"M120-120v-720h720v720H120Zm60-500h600v-160H180v160Zm220 220h160v-160H400v160Zm0 220h160v-160H400v160ZM180-400h160v-160H180v160Zm440 0h160v-160H620v160ZM180-180h160v-160H180v160Zm440 0h160v-160H620v160Z\"/>\n",
              "  </svg>\n",
              "    </button>\n",
              "\n",
              "  <style>\n",
              "    .colab-df-container {\n",
              "      display:flex;\n",
              "      gap: 12px;\n",
              "    }\n",
              "\n",
              "    .colab-df-convert {\n",
              "      background-color: #E8F0FE;\n",
              "      border: none;\n",
              "      border-radius: 50%;\n",
              "      cursor: pointer;\n",
              "      display: none;\n",
              "      fill: #1967D2;\n",
              "      height: 32px;\n",
              "      padding: 0 0 0 0;\n",
              "      width: 32px;\n",
              "    }\n",
              "\n",
              "    .colab-df-convert:hover {\n",
              "      background-color: #E2EBFA;\n",
              "      box-shadow: 0px 1px 2px rgba(60, 64, 67, 0.3), 0px 1px 3px 1px rgba(60, 64, 67, 0.15);\n",
              "      fill: #174EA6;\n",
              "    }\n",
              "\n",
              "    .colab-df-buttons div {\n",
              "      margin-bottom: 4px;\n",
              "    }\n",
              "\n",
              "    [theme=dark] .colab-df-convert {\n",
              "      background-color: #3B4455;\n",
              "      fill: #D2E3FC;\n",
              "    }\n",
              "\n",
              "    [theme=dark] .colab-df-convert:hover {\n",
              "      background-color: #434B5C;\n",
              "      box-shadow: 0px 1px 3px 1px rgba(0, 0, 0, 0.15);\n",
              "      filter: drop-shadow(0px 1px 2px rgba(0, 0, 0, 0.3));\n",
              "      fill: #FFFFFF;\n",
              "    }\n",
              "  </style>\n",
              "\n",
              "    <script>\n",
              "      const buttonEl =\n",
              "        document.querySelector('#df-613e22f9-e105-4eae-816b-a24886f46802 button.colab-df-convert');\n",
              "      buttonEl.style.display =\n",
              "        google.colab.kernel.accessAllowed ? 'block' : 'none';\n",
              "\n",
              "      async function convertToInteractive(key) {\n",
              "        const element = document.querySelector('#df-613e22f9-e105-4eae-816b-a24886f46802');\n",
              "        const dataTable =\n",
              "          await google.colab.kernel.invokeFunction('convertToInteractive',\n",
              "                                                    [key], {});\n",
              "        if (!dataTable) return;\n",
              "\n",
              "        const docLinkHtml = 'Like what you see? Visit the ' +\n",
              "          '<a target=\"_blank\" href=https://colab.research.google.com/notebooks/data_table.ipynb>data table notebook</a>'\n",
              "          + ' to learn more about interactive tables.';\n",
              "        element.innerHTML = '';\n",
              "        dataTable['output_type'] = 'display_data';\n",
              "        await google.colab.output.renderOutput(dataTable, element);\n",
              "        const docLink = document.createElement('div');\n",
              "        docLink.innerHTML = docLinkHtml;\n",
              "        element.appendChild(docLink);\n",
              "      }\n",
              "    </script>\n",
              "  </div>\n",
              "\n",
              "\n",
              "<div id=\"df-51bf26cb-b2df-434e-b8f9-4512c7bd9637\">\n",
              "  <button class=\"colab-df-quickchart\" onclick=\"quickchart('df-51bf26cb-b2df-434e-b8f9-4512c7bd9637')\"\n",
              "            title=\"Suggest charts\"\n",
              "            style=\"display:none;\">\n",
              "\n",
              "<svg xmlns=\"http://www.w3.org/2000/svg\" height=\"24px\"viewBox=\"0 0 24 24\"\n",
              "     width=\"24px\">\n",
              "    <g>\n",
              "        <path d=\"M19 3H5c-1.1 0-2 .9-2 2v14c0 1.1.9 2 2 2h14c1.1 0 2-.9 2-2V5c0-1.1-.9-2-2-2zM9 17H7v-7h2v7zm4 0h-2V7h2v10zm4 0h-2v-4h2v4z\"/>\n",
              "    </g>\n",
              "</svg>\n",
              "  </button>\n",
              "\n",
              "<style>\n",
              "  .colab-df-quickchart {\n",
              "      --bg-color: #E8F0FE;\n",
              "      --fill-color: #1967D2;\n",
              "      --hover-bg-color: #E2EBFA;\n",
              "      --hover-fill-color: #174EA6;\n",
              "      --disabled-fill-color: #AAA;\n",
              "      --disabled-bg-color: #DDD;\n",
              "  }\n",
              "\n",
              "  [theme=dark] .colab-df-quickchart {\n",
              "      --bg-color: #3B4455;\n",
              "      --fill-color: #D2E3FC;\n",
              "      --hover-bg-color: #434B5C;\n",
              "      --hover-fill-color: #FFFFFF;\n",
              "      --disabled-bg-color: #3B4455;\n",
              "      --disabled-fill-color: #666;\n",
              "  }\n",
              "\n",
              "  .colab-df-quickchart {\n",
              "    background-color: var(--bg-color);\n",
              "    border: none;\n",
              "    border-radius: 50%;\n",
              "    cursor: pointer;\n",
              "    display: none;\n",
              "    fill: var(--fill-color);\n",
              "    height: 32px;\n",
              "    padding: 0;\n",
              "    width: 32px;\n",
              "  }\n",
              "\n",
              "  .colab-df-quickchart:hover {\n",
              "    background-color: var(--hover-bg-color);\n",
              "    box-shadow: 0 1px 2px rgba(60, 64, 67, 0.3), 0 1px 3px 1px rgba(60, 64, 67, 0.15);\n",
              "    fill: var(--button-hover-fill-color);\n",
              "  }\n",
              "\n",
              "  .colab-df-quickchart-complete:disabled,\n",
              "  .colab-df-quickchart-complete:disabled:hover {\n",
              "    background-color: var(--disabled-bg-color);\n",
              "    fill: var(--disabled-fill-color);\n",
              "    box-shadow: none;\n",
              "  }\n",
              "\n",
              "  .colab-df-spinner {\n",
              "    border: 2px solid var(--fill-color);\n",
              "    border-color: transparent;\n",
              "    border-bottom-color: var(--fill-color);\n",
              "    animation:\n",
              "      spin 1s steps(1) infinite;\n",
              "  }\n",
              "\n",
              "  @keyframes spin {\n",
              "    0% {\n",
              "      border-color: transparent;\n",
              "      border-bottom-color: var(--fill-color);\n",
              "      border-left-color: var(--fill-color);\n",
              "    }\n",
              "    20% {\n",
              "      border-color: transparent;\n",
              "      border-left-color: var(--fill-color);\n",
              "      border-top-color: var(--fill-color);\n",
              "    }\n",
              "    30% {\n",
              "      border-color: transparent;\n",
              "      border-left-color: var(--fill-color);\n",
              "      border-top-color: var(--fill-color);\n",
              "      border-right-color: var(--fill-color);\n",
              "    }\n",
              "    40% {\n",
              "      border-color: transparent;\n",
              "      border-right-color: var(--fill-color);\n",
              "      border-top-color: var(--fill-color);\n",
              "    }\n",
              "    60% {\n",
              "      border-color: transparent;\n",
              "      border-right-color: var(--fill-color);\n",
              "    }\n",
              "    80% {\n",
              "      border-color: transparent;\n",
              "      border-right-color: var(--fill-color);\n",
              "      border-bottom-color: var(--fill-color);\n",
              "    }\n",
              "    90% {\n",
              "      border-color: transparent;\n",
              "      border-bottom-color: var(--fill-color);\n",
              "    }\n",
              "  }\n",
              "</style>\n",
              "\n",
              "  <script>\n",
              "    async function quickchart(key) {\n",
              "      const quickchartButtonEl =\n",
              "        document.querySelector('#' + key + ' button');\n",
              "      quickchartButtonEl.disabled = true;  // To prevent multiple clicks.\n",
              "      quickchartButtonEl.classList.add('colab-df-spinner');\n",
              "      try {\n",
              "        const charts = await google.colab.kernel.invokeFunction(\n",
              "            'suggestCharts', [key], {});\n",
              "      } catch (error) {\n",
              "        console.error('Error during call to suggestCharts:', error);\n",
              "      }\n",
              "      quickchartButtonEl.classList.remove('colab-df-spinner');\n",
              "      quickchartButtonEl.classList.add('colab-df-quickchart-complete');\n",
              "    }\n",
              "    (() => {\n",
              "      let quickchartButtonEl =\n",
              "        document.querySelector('#df-51bf26cb-b2df-434e-b8f9-4512c7bd9637 button');\n",
              "      quickchartButtonEl.style.display =\n",
              "        google.colab.kernel.accessAllowed ? 'block' : 'none';\n",
              "    })();\n",
              "  </script>\n",
              "</div>\n",
              "\n",
              "    </div>\n",
              "  </div>\n"
            ],
            "application/vnd.google.colaboratory.intrinsic+json": {
              "type": "dataframe",
              "variable_name": "week1_2023_plays",
              "summary": "{\n  \"name\": \"week1_2023_plays\",\n  \"rows\": 2600,\n  \"fields\": [\n    {\n      \"column\": \"Season\",\n      \"properties\": {\n        \"dtype\": \"Int64\",\n        \"num_unique_values\": 1,\n        \"samples\": [\n          2023\n        ],\n        \"semantic_type\": \"\",\n        \"description\": \"\"\n      }\n    },\n    {\n      \"column\": \"Week\",\n      \"properties\": {\n        \"dtype\": \"category\",\n        \"num_unique_values\": 1,\n        \"samples\": [\n          \"Week 1\"\n        ],\n        \"semantic_type\": \"\",\n        \"description\": \"\"\n      }\n    },\n    {\n      \"column\": \"Day\",\n      \"properties\": {\n        \"dtype\": \"category\",\n        \"num_unique_values\": 3,\n        \"samples\": [\n          \"MON\"\n        ],\n        \"semantic_type\": \"\",\n        \"description\": \"\"\n      }\n    },\n    {\n      \"column\": \"Date\",\n      \"properties\": {\n        \"dtype\": \"category\",\n        \"num_unique_values\": 3,\n        \"samples\": [\n          \"09/11\"\n        ],\n        \"semantic_type\": \"\",\n        \"description\": \"\"\n      }\n    },\n    {\n      \"column\": \"AwayTeam\",\n      \"properties\": {\n        \"dtype\": \"category\",\n        \"num_unique_values\": 16,\n        \"samples\": [\n          \"Bills\"\n        ],\n        \"semantic_type\": \"\",\n        \"description\": \"\"\n      }\n    },\n    {\n      \"column\": \"HomeTeam\",\n      \"properties\": {\n        \"dtype\": \"category\",\n        \"num_unique_values\": 16,\n        \"samples\": [\n          \"Jets\"\n        ],\n        \"semantic_type\": \"\",\n        \"description\": \"\"\n      }\n    },\n    {\n      \"column\": \"Quarter\",\n      \"properties\": {\n        \"dtype\": \"category\",\n        \"num_unique_values\": 5,\n        \"samples\": [\n          \"2ND QUARTER\"\n        ],\n        \"semantic_type\": \"\",\n        \"description\": \"\"\n      }\n    },\n    {\n      \"column\": \"DriveNumber\",\n      \"properties\": {\n        \"dtype\": \"Int64\",\n        \"num_unique_values\": 10,\n        \"samples\": [\n          8\n        ],\n        \"semantic_type\": \"\",\n        \"description\": \"\"\n      }\n    },\n    {\n      \"column\": \"TeamWithPossession\",\n      \"properties\": {\n        \"dtype\": \"category\",\n        \"num_unique_values\": 32,\n        \"samples\": [\n          \"PIT\"\n        ],\n        \"semantic_type\": \"\",\n        \"description\": \"\"\n      }\n    },\n    {\n      \"column\": \"IsScoringDrive\",\n      \"properties\": {\n        \"dtype\": \"Int64\",\n        \"num_unique_values\": 2,\n        \"samples\": [\n          1\n        ],\n        \"semantic_type\": \"\",\n        \"description\": \"\"\n      }\n    },\n    {\n      \"column\": \"PlayNumberInDrive\",\n      \"properties\": {\n        \"dtype\": \"Int64\",\n        \"num_unique_values\": 20,\n        \"samples\": [\n          1\n        ],\n        \"semantic_type\": \"\",\n        \"description\": \"\"\n      }\n    },\n    {\n      \"column\": \"IsScoringPlay\",\n      \"properties\": {\n        \"dtype\": \"Int64\",\n        \"num_unique_values\": 2,\n        \"samples\": [\n          1\n        ],\n        \"semantic_type\": \"\",\n        \"description\": \"\"\n      }\n    },\n    {\n      \"column\": \"PlayOutcome\",\n      \"properties\": {\n        \"dtype\": \"category\",\n        \"num_unique_values\": 170,\n        \"samples\": [\n          \"Touchdown Buccaneers\"\n        ],\n        \"semantic_type\": \"\",\n        \"description\": \"\"\n      }\n    },\n    {\n      \"column\": \"PlayDescription\",\n      \"properties\": {\n        \"dtype\": \"string\",\n        \"num_unique_values\": 2487,\n        \"samples\": [\n          \"(:54) (Shotgun) K.Cousins pass deep middle to J.Jefferson to TB 22 for 42 yards (A.Winfield).\"\n        ],\n        \"semantic_type\": \"\",\n        \"description\": \"\"\n      }\n    },\n    {\n      \"column\": \"PlayStart\",\n      \"properties\": {\n        \"dtype\": \"string\",\n        \"num_unique_values\": 2119,\n        \"samples\": [\n          \"3rd & 16 at LA 18\"\n        ],\n        \"semantic_type\": \"\",\n        \"description\": \"\"\n      }\n    }\n  ]\n}"
            }
          },
          "metadata": {},
          "execution_count": 9
        }
      ]
    },
    {
      "cell_type": "code",
      "source": [
        "# Observation of the amount of data being worked on\n",
        "week1_2023_plays.shape"
      ],
      "metadata": {
        "colab": {
          "base_uri": "https://localhost:8080/"
        },
        "id": "oShT8MvlRQdR",
        "outputId": "a7a220cf-30e0-4635-a0a0-ed71a690661f"
      },
      "execution_count": 10,
      "outputs": [
        {
          "output_type": "execute_result",
          "data": {
            "text/plain": [
              "(2600, 15)"
            ]
          },
          "metadata": {},
          "execution_count": 10
        }
      ]
    },
    {
      "cell_type": "markdown",
      "source": [
        "# CATEGORIZE PLAYS\n",
        "- The goal here is to parse out the different values for 'PlayOutcome'\n",
        "  - separate pass / run / kickoff / etc."
      ],
      "metadata": {
        "id": "9JD1VzJWRWn0"
      }
    },
    {
      "cell_type": "markdown",
      "source": [
        "## PARSING\n"
      ],
      "metadata": {
        "id": "6G8yilnkRcZu"
      }
    },
    {
      "cell_type": "code",
      "source": [
        "# Maybe try to fuzzywuzzy this in the future?\n",
        "\n",
        "# All play outcomes from the game\n",
        "# - From here we can categorize and clean plays accordingly\n",
        "week1_2023_plays['PlayOutcome'].unique()"
      ],
      "metadata": {
        "colab": {
          "base_uri": "https://localhost:8080/"
        },
        "id": "S0WcGgv1RXl0",
        "outputId": "b9bce15f-a6d6-4e1e-ade8-a97b0266fdd8"
      },
      "execution_count": 11,
      "outputs": [
        {
          "output_type": "execute_result",
          "data": {
            "text/plain": [
              "array(['Kickoff', '7 Yard Pass', '5 Yard Pass', '3 Yard Run',\n",
              "       '2 Yard Run', 'Pass Incomplete', 'Punt', '-5 Yard Penalty',\n",
              "       '5 Yard Run', '1 Yard Pass', '14 Yard Run', '3 Yard Pass',\n",
              "       '8 Yard Run', '6 Yard Pass', '15 Yard Pass', '-9 Yard Sack',\n",
              "       '4 Yard Pass', '13 Yard Pass', 'Field Goal', '-2 Yard Sack',\n",
              "       'Interception', '-5 Yard Run', '18 Yard Pass', '8 Yard Pass',\n",
              "       '6 Yard Run', '12 Yard Run', '-1 Yard Run', '26 Yard Pass',\n",
              "       'Touchdown Bills', 'Extra Point Good', '13 Yard Run',\n",
              "       '-3 Yard Sack', '7 Yard Run', '9 Yard Pass', '4 Yard Run',\n",
              "       'Fumble', '-10 Yard Penalty', '10 Yard Pass', '26 Yard Run',\n",
              "       '5 Yard Penalty', '-10 Yard Sack', '22 Yard Pass', '-4 Yard Run',\n",
              "       '-12 Yard Sack', '83 Yard Run', '1 Yard Run', '2 Yard Pass',\n",
              "       '10 Yard Run', 'Run for No Gain', '12 Yard Pass', '20 Yard Pass',\n",
              "       '9 Yard Run', '-2 Yard Pass', 'Sack', '24 Yard Pass',\n",
              "       '14 Yard Pass', 'Touchdown Jets', '-3 Yard Run', '-2 Yard Run',\n",
              "       'Touchdown Packers', '16 Yard Pass', '30 Yard Pass',\n",
              "       '-8 Yard Sack', '51 Yard Pass', '37 Yard Pass', '-8 Yard Run',\n",
              "       'Turnover on Downs', '19 Yard Pass', '23 Yard Pass', '-7 Yard Run',\n",
              "       '11 Yard Run', '11 Yard Pass', '-7 Yard Sack', '-4 Yard Pass',\n",
              "       '-11 Yard Sack', '-6 Yard Run', 'Touchdown Bears',\n",
              "       '2PT Conversion Success', '2PT Conversion Fails',\n",
              "       'Touchdown Colts', '35 Yard Pass', '-5 Yard Sack',\n",
              "       '15 Yard Penalty', '-14 Yard Run', '-1 Yard Sack', '-3 Yard Pass',\n",
              "       'Touchdown Jaguars', '29 Yard Pass', '22 Yard Run',\n",
              "       '18 Yard Penalty', 'Field Goal No Good', '-1 Yard Pass',\n",
              "       '17 Yard Run', '19 Yard Run', 'Touchdown Browns', '33 Yard Pass',\n",
              "       '16 Yard Run', 'Touchdown Chiefs', '25 Yard Pass', '34 Yard Pass',\n",
              "       '41 Yard Penalty', '21 Yard Pass', 'Touchdown Lions',\n",
              "       '-12 Yard Penalty', '18 Yard Run', '23 Yard Run',\n",
              "       'Pass for No Gain', 'Touchdown Cowboys', '49 Yard Pass',\n",
              "       '37 Yard Penalty', '25 Yard Run', '-4 Yard Sack', '-5 Yard Pass',\n",
              "       'Touchdown Ravens', '26 Yard Penalty', '1 Yard Penalty',\n",
              "       '17 Yard Penalty', '17 Yard Pass', '-6 Yard Sack', '-6 Yard Pass',\n",
              "       '27 Yard Pass', '45 Yard Pass', 'Touchdown Saints', '41 Yard Pass',\n",
              "       '46 Yard Pass', 'Touchdown Raiders', '16 Yard Penalty',\n",
              "       '31 Yard Pass', 'Touchdown Broncos', 'Extra Point No Good',\n",
              "       '-7 Yard Pass', 'Touchdown Falcons', '-13 Yard Sack',\n",
              "       '21 Yard Run', '-7 Yard Penalty', '-4 Yard Penalty',\n",
              "       'Touchdown Panthers', '9 Yard Penalty', '4 Yard Penalty',\n",
              "       'Touchdown Buccaneers', '20 Yard Run', 'Touchdown Vikings',\n",
              "       '42 Yard Pass', '36 Yard Pass', 'Touchdown Chargers',\n",
              "       '55 Yard Run', '13 Yard Penalty', 'Penalty', 'Touchdown Dolphins',\n",
              "       '28 Yard Pass', '30 Yard Penalty', '47 Yard Pass',\n",
              "       'Touchdown Patriots', '32 Yard Pass', 'Touchdown Eagles',\n",
              "       '-14 Yard Penalty', 'Touchdown Rams', '-15 Yard Penalty',\n",
              "       '44 Yard Pass', '10 Yard Penalty', 'Touchdown Seahawks',\n",
              "       '15 Yard Run', '3 Yard Penalty', 'Touchdown 49ers', '39 Yard Run',\n",
              "       'Touchdown Steelers', '11 Yard Penalty', '29 Yard Run',\n",
              "       'Touchdown Cardinals', 'Touchdown Commanders'], dtype=object)"
            ]
          },
          "metadata": {},
          "execution_count": 11
        }
      ]
    },
    {
      "cell_type": "code",
      "source": [
        "# There are more types of plays that I have not made yet for Week 1.\n",
        "\n",
        "# Looking at all unique play outcomes and categorizing them.\n",
        "# - This type of approach does not feel very flexable because a play outcome can\n",
        "#   arise that has not been seen yet.\n",
        "# - There may be more in the future when working on a full season, let alone all seasons and future games\n",
        "df_2023_pass_week1 = week1_2023_plays[week1_2023_plays['PlayOutcome'].str.contains('Pass')]\n",
        "df_2023_run_week1 = week1_2023_plays[week1_2023_plays['PlayOutcome'].str.contains('Run')]\n",
        "\n",
        "# df_2023_punt_week1 = week1_2023_plays[week1_2023_plays['PlayOutcome'].str.contains('Punt')]\n",
        "# df_2023_sack_week1 = week1_2023_plays[week1_2023_plays['PlayOutcome'].str.contains('Sack')]\n",
        "# df_2023_kickoff_week1 = week1_2023_plays[week1_2023_plays['PlayOutcome'].str.contains('Kickoff')]\n",
        "# df_2023_fumble_week1 = week1_2023_plays[week1_2023_plays['PlayOutcome'].str.contains('Fumble')]\n",
        "# df_2023_interception_week1 = week1_2023_plays[week1_2023_plays['PlayOutcome'].str.contains('Interception')]\n",
        "# df_2023_penalty_week1 = week1_2023_plays[week1_2023_plays['PlayOutcome'].str.contains('Penalty')]\n",
        "# df_2023_fieldgoal_week1 = week1_2023_plays[week1_2023_plays['PlayOutcome'].str.contains('Field Goal')]\n",
        "# df_2023_touchdown_week1 = week1_2023_plays[week1_2023_plays['PlayOutcome'].str.contains('Touchdown')]\n",
        "# df_2023_extrapoint_week1 = week1_2023_plays[week1_2023_plays['PlayOutcome'].str.contains('Extra Point')]\n",
        "\n",
        "# plays_list = [df_2023_pass_sb,\n",
        "#               df_2023_run_sb,\n",
        "#               df_2023_punt_sb,\n",
        "#               df_2023_sack_sb,\n",
        "#               df_2023_kickoff_sb,\n",
        "#               df_2023_fumble_sb,\n",
        "#               df_2023_interception_sb,\n",
        "#               df_2023_penalty_sb,\n",
        "#               df_2023_fieldgoal_sb,\n",
        "#               df_2023_touchdown_sb,\n",
        "#               df_2023_extrapoint_sb]"
      ],
      "metadata": {
        "id": "sYCiceyQRrxl"
      },
      "execution_count": 53,
      "outputs": []
    },
    {
      "cell_type": "markdown",
      "source": [
        "## SANITY CHECK (All Plays Accounted for)\n",
        "- NOT COMPLETE\n",
        "  - Still need to grab other play types"
      ],
      "metadata": {
        "id": "ELSW1R82_TqT"
      }
    },
    {
      "cell_type": "markdown",
      "source": [
        "## HELPER METHODS (personal use)\n",
        "- For personal use, does not actually take part in cleaning dataset at all."
      ],
      "metadata": {
        "id": "uau4ner4_fug"
      }
    },
    {
      "cell_type": "code",
      "source": [
        "# PURPOSE:\n",
        "# - Quick look at a section of plays\n",
        "#   - Ideally the plays that the user wants to break down and clean.\n",
        "# INPUT PARAMETERS:\n",
        "# df_all_plays      - DataFrame - The original dataframe where the desired plays to view came from\n",
        "# df_section_plays  - DataFrame - A section of the original dataframe the user wants to view\n",
        "# RETURN:\n",
        "# - Printing to the console:\n",
        "#   1. index of play\n",
        "#   2. 'PlayDescription' feature of play\n",
        "#   3. 'PlayOutcome' feature of play\n",
        "def print_plays(df_all_plays, df_section_plays):\n",
        "  for idx, value in df_section_plays['PlayOutcome'].items():\n",
        "    print(\"index:\" + str(idx))\n",
        "    play = df_all_plays['PlayDescription'].iloc[idx]\n",
        "    print(play)\n",
        "    print(value)\n",
        "    print()"
      ],
      "metadata": {
        "id": "u8Sza2J8_hwG"
      },
      "execution_count": 13,
      "outputs": []
    },
    {
      "cell_type": "markdown",
      "source": [
        "# PIPELINE"
      ],
      "metadata": {
        "id": "AkZ2lDw3yF4z"
      }
    },
    {
      "cell_type": "markdown",
      "source": [
        "## CLEANING METHODS\n",
        "- Will contain all methods to clean every type of play\n",
        "- Uses the raw data in the feature 'PlayOutcome' to parse plays into different categories"
      ],
      "metadata": {
        "id": "8LYvErx95uaA"
      }
    },
    {
      "cell_type": "code",
      "source": [
        "####################################################\n",
        "# REGULAR EXPRESSIONS USED TO LOCATE SPECIFIC DATA #\n",
        "####################################################\n",
        "\n",
        "################\n",
        "# PLAY DETAILS #\n",
        "################\n",
        "\n",
        "time_on_clock_pattern = r'\\(\\d*:\\d+\\)'\n",
        "formation = r'\\([A-Za-z]+ ?[A-Za-z]*,? ?[A-Za-z]*\\)'\n",
        "yardage_gained = r'for -?[0-9]+ yards?'\n",
        "\n",
        "#################\n",
        "# NAMES OFFENSE #\n",
        "#################\n",
        "\n",
        "name_pattern = r'\\b[A-Za-z]+\\.[A-Za-z]+-?[A-Za-z]*\\b' # Grabs all names but will only be used for Passer\n",
        "receiver_name_pattern = r'\\b [A-Za-z]+\\.[A-Za-z]+-?[A-Za-z]*\\b' # Receivers have a space before their name\n",
        "rusher_pattern = r'\\b[A-Za-z]+\\.[A-Za-z]+-?[A-Za-z]* \\b' # Runningbacks, like quarterbacks, are the first names in play descriptions\n",
        "\n",
        "#################\n",
        "# NAMES DEFENSE #\n",
        "#################\n",
        "\n",
        "defense_tackler_1_name_pattern = r'\\([A-Za-z]+\\.[A-Za-z]+-?[A-Za-z]*' # Will have a \"(\" in front of the name\n",
        "defense_tackler_2_name_pattern = r' [A-Za-z]+\\.[A-Za-z]+-?[A-Za-z]*\\)' # Will have a \")\" at the end of the name\n",
        "defense_pressure_name_pattern = r'\\[[A-Za-z]+\\.[A-Za-z]+-?[A-Za-z]*\\]' # Surrounded by \"[]\" brackets\n",
        "\n",
        "########################\n",
        "# TEAM IDENTIFIED NAME #\n",
        "########################\n",
        "\n",
        "team_identified_name = r'-[A-Za-z]+\\.[A-Za-z]+-?[A-Za-z]*' # team initials comes before their name (e.g. KC-B.Bob).\n",
        "                                                           # - This occurs when there is an injury, penalty, fumble recovery.\n",
        "\n",
        "#######################\n",
        "# PATTERNS ON FUMBLES #\n",
        "#######################\n",
        "\n",
        "qb_fumble = \"[A-Za-z]+\\.[A-Za-z]+-?[A-Za-z]* to [A-Z]+ [0-9]+ for -?[0-9]+ yards$\" # When quarterbacks fumble the ball after snap(?)\n",
        "run_after_recovery = \"^[A-Za-z]+\\.[A-Za-z]+-?[A-Za-z]* to [A-Z]+ [0-9]+ for \" # yardage after recovery (formatted almost exactly like a regular run play)\n"
      ],
      "metadata": {
        "id": "7GjwQpriPJcS"
      },
      "execution_count": 14,
      "outputs": []
    },
    {
      "cell_type": "markdown",
      "source": [
        "### HELPER METHODS (Pass & Run)\n",
        "- Methods that will help break down unique situations that happen during ordinary plays.\n",
        "- ADDRESSED SITUATIONS:\n",
        "  1. Fumbles ( pass / run )\n",
        "    - Still in the making\n"
      ],
      "metadata": {
        "id": "FQyhGxBJ_whg"
      }
    },
    {
      "cell_type": "markdown",
      "source": [
        "##### Pass Fumble Plays"
      ],
      "metadata": {
        "id": "DsERZOWJskje"
      }
    },
    {
      "cell_type": "code",
      "source": [
        "# THIS IS ONLY FOR PASSING RIGHT NOW.\n",
        "\n",
        "# Regular expression used to grab QB only fumbles.\n",
        "# Example - \"(14:21) J.Love to CHI 44 for -3 yards\"\n",
        "# NOTE:\n",
        "# - There are other plays that follow this format.\n",
        "#   So far I have seen:\n",
        "#   1. P.Campbell to NYG 33 for -2 yards\n",
        "#      - What looks like to be an ordinary run play\n",
        "qb_fumble = \"[A-Za-z]+\\.[A-Za-z]+-?[A-Za-z]* to [A-Z]+ [0-9]+ for -?[0-9]+ yards$\"\n",
        "\n",
        "# Regular expression used for players who recovered the fumbled ball.\n",
        "# Example: NYG-P.Campbell\n",
        "fumble_recoverer = \"[A-Z]+-[A-Z]+\\.[A-Za-z]+-?[A-Za-z]*\"\n",
        "\n",
        "# PURPOSE:\n",
        "# - Extract fumble data from fumble plays.\n",
        "#   - Goal is to strictly grab data that can only appear during fumbled plays,\n",
        "#     the rest of the data will go down through the pipeline.\n",
        "\n",
        "def extract_fumble_data(play):\n",
        "\n",
        "  # Every action of the play is recorded into sentences that can be broken down.\n",
        "  # - Goal is to strictly grab data that only appears during fumbled plays,\n",
        "  #   the rest will go through the set play type pipeline.\n",
        "  play_elements = play.split(\". \")\n",
        "  # Collecting fumble data in the exact order in which it happened.\n",
        "  extracted_fumble_details = [None] * len(play_elements)\n",
        "  push_back_to_pipeline = []\n",
        "  # When traversing through each element, some elements will singal that\n",
        "  # the next element is a detail exclusively found in fumble plays.\n",
        "  automatic_fumble_detail_add = False\n",
        "\n",
        "  for i in play_elements:\n",
        "    if automatic_fumble_detail_add:\n",
        "      extracted_fumble_details.pop(play_elements.index(i))\n",
        "      extracted_fumble_details.insert(play_elements.index(i), i)\n",
        "      automatic_fumble_detail_add = False\n",
        "      continue\n",
        "    else:\n",
        "      # All plays added to this list, then shaved off if neccessary.\n",
        "      push_back_to_pipeline.append(i)\n",
        "\n",
        "    # QB only fumbles\n",
        "    # (e.g. '(14:21) J.Love to CHI 44 for -3 yards.')\n",
        "    passer = re.findall(qb_fumble, i)\n",
        "    if len(passer) == 1:\n",
        "      # Wanted element (QB only fumble) does not:\n",
        "      # 1. Follow a sentence stating that the ball has been fumbled.\n",
        "      #    - In order to check the previous sentence, we must make sure there\n",
        "      #      is a sentence there to check in the first place.\n",
        "      if play_elements.index(i) > 0 and play_elements[play_elements.index(i)-1].find('FUMBLES') != -1:\n",
        "        continue\n",
        "      else:\n",
        "        push_back_to_pipeline.pop(push_back_to_pipeline.index(i))\n",
        "        extracted_fumble_details.pop(play_elements.index(i))\n",
        "        extracted_fumble_details.insert(play_elements.index(i), i)\n",
        "\n",
        "    # Fumble and recovery\n",
        "    # If the person who recovered the ball then goes on to run the ball after,\n",
        "    # their yardage gained from that run will be automatically added to extracted_fumble_details\n",
        "    if i.find('FUMBLES') != -1:\n",
        "      recoverer = re.findall(fumble_recoverer, i)\n",
        "      if len(recoverer) > 0:\n",
        "        player_who_recovered_ball = recoverer[0][recoverer[0].find(\"-\") + 1:]\n",
        "        try:\n",
        "          if play_elements[play_elements.index(i)+1].find(player_who_recovered_ball) != -1:\n",
        "            automatic_fumble_detail_add = True\n",
        "        except IndexError:\n",
        "          pass\n",
        "      push_back_to_pipeline.pop(push_back_to_pipeline.index(i))\n",
        "      extracted_fumble_details.pop(play_elements.index(i))\n",
        "      extracted_fumble_details.insert(play_elements.index(i), i)\n",
        "\n",
        "    # Reversed\n",
        "    # If play has been reversed, the only offensive stats recorded are the\n",
        "    # sentences that follow the play reversal.\n",
        "    if i.find('REVERSED') != -1:\n",
        "      for j in push_back_to_pipeline:\n",
        "        extracted_fumble_details.pop(play_elements.index(j))\n",
        "        extracted_fumble_details.insert(play_elements.index(j), j)\n",
        "      push_back_to_pipeline.clear()\n",
        "\n",
        "  return extracted_fumble_details, push_back_to_pipeline"
      ],
      "metadata": {
        "id": "CWmHZUK6R9Om"
      },
      "execution_count": 15,
      "outputs": []
    },
    {
      "cell_type": "code",
      "source": [
        "for idx, value in df_2023_pass_week1['PlayOutcome'].items():\n",
        "  play = week1_2023_plays['PlayDescription'].iloc[idx]\n",
        "  if play.find('FUMBLES') != -1:\n",
        "    fumble_details, main_play = extract_fumble_data(play)\n",
        "    print(fumble_details)\n",
        "    print(main_play)\n",
        "    print(\". \".join(main_play))\n",
        "    print(value)\n",
        "    print()"
      ],
      "metadata": {
        "colab": {
          "base_uri": "https://localhost:8080/"
        },
        "id": "8osZi76cUQs2",
        "outputId": "ec9456e9-865b-4157-d71b-962ebbe1c08e"
      },
      "execution_count": 16,
      "outputs": [
        {
          "output_type": "stream",
          "name": "stdout",
          "text": [
            "['(14:21) J.Love to CHI 44 for -3 yards', 'FUMBLES, and recovers at CHI 46', None]\n",
            "['J.Love pass deep left to L.Musgrave to CHI 4 for 37 yards (T.Stevenson) [D.Walker].']\n",
            "J.Love pass deep left to L.Musgrave to CHI 4 for 37 yards (T.Stevenson) [D.Walker].\n",
            "37 Yard Pass\n",
            "\n",
            "['(14:15) T.Lawrence pass short right to C.Ridley to JAX 47 for 14 yards (R.Thomas, E.Speed)', 'FUMBLES (E.Speed), RECOVERED by IND-E.Speed at IND 49', 'E.Speed ran ob at IND 49 for no gain', 'The Replay Official reviewed the ball was inbounds ruling, and the play was REVERSED', None, 'FUMBLES (E.Speed), ball out of bounds at IND 49', None, None]\n",
            "['T.Lawrence pass short right to C.Ridley to JAX 47 for 14 yards (R.Thomas, E.Speed)', 'IND-K.Moore was injured during the play', 'IND-D.Flowers was injured during the play.']\n",
            "T.Lawrence pass short right to C.Ridley to JAX 47 for 14 yards (R.Thomas, E.Speed). IND-K.Moore was injured during the play. IND-D.Flowers was injured during the play.\n",
            "14 Yard Pass\n",
            "\n",
            "[None, 'FUMBLES (B.Okereke), recovered by DAL-T.Biadasz at NYG 4.']\n",
            "['(11:26) (Shotgun) D.Prescott pass short right to T.Pollard to NYG 12 for 7 yards (B.Okereke)']\n",
            "(11:26) (Shotgun) D.Prescott pass short right to T.Pollard to NYG 12 for 7 yards (B.Okereke)\n",
            "7 Yard Pass\n",
            "\n",
            "[None, 'FUMBLES (M.Bell), recovered by NYG-P.Campbell at NYG 35', 'P.Campbell to NYG 33 for -2 yards', None]\n",
            "['(4:45) (Shotgun) D.Jones pass short left to M.Breida to NYG 43 for 5 yards (M.Bell)', 'Officially, a pass for -3 yards.']\n",
            "(4:45) (Shotgun) D.Jones pass short left to M.Breida to NYG 43 for 5 yards (M.Bell). Officially, a pass for -3 yards.\n",
            "-5 Yard Pass\n",
            "\n",
            "['(6:32) (Shotgun) B.Mayfield pass short middle to C.Otton to MIN 47 for 14 yards (A.Evans)', 'FUMBLES (A.Evans), recovered by TB-T.Palmer at MIN 43', 'Minnesota challenged the pass completion ruling, and the play was REVERSED', None]\n",
            "['(Shotgun) B.Mayfield pass incomplete short middle to C.Otton (A.Evans).']\n",
            "(Shotgun) B.Mayfield pass incomplete short middle to C.Otton (A.Evans).\n",
            "Pass Incomplete\n",
            "\n",
            "['(3:50) (Shotgun) T.Tagovailoa pass short right to S.Ahmed to MIA 26 for 1 yard (J.Taylor)', 'FUMBLES (J.Taylor), RECOVERED by LAC-K.Murray at MIA 24', 'K.Murray for 24 yards, TOUCHDOWN', 'The Replay Official reviewed the pass completion ruling, and the play was REVERSED', None]\n",
            "['(Shotgun) T.Tagovailoa pass incomplete short right to S.Ahmed (J.Taylor).']\n",
            "(Shotgun) T.Tagovailoa pass incomplete short right to S.Ahmed (J.Taylor).\n",
            "Pass Incomplete\n",
            "\n",
            "[None, 'FUMBLES (C.Holcomb), and recovers at SF 39.']\n",
            "['(3:05) (Shotgun) B.Purdy pass short middle to C.McCaffrey to SF 39 for 7 yards (K.Alexander, C.Holcomb) [Ca.Heyward]']\n",
            "(3:05) (Shotgun) B.Purdy pass short middle to C.McCaffrey to SF 39 for 7 yards (K.Alexander, C.Holcomb) [Ca.Heyward]\n",
            "7 Yard Pass\n",
            "\n"
          ]
        }
      ]
    },
    {
      "cell_type": "code",
      "source": [
        "for idx, value in df_2023_pass_week1['PlayOutcome'].items():\n",
        "  play = week1_2023_plays['PlayDescription'].iloc[idx]\n",
        "  if play.find('FUMBLES') != -1:\n",
        "    print(\"index:\" + str(idx))\n",
        "    fumble_play_elements = play.split(\". \")\n",
        "    for i in fumble_play_elements:\n",
        "      print(i)\n",
        "    # print(play)\n",
        "    print(value)\n",
        "    print()"
      ],
      "metadata": {
        "id": "DywsMTxQ_wJt",
        "colab": {
          "base_uri": "https://localhost:8080/"
        },
        "outputId": "cdef38ae-9d51-4519-f993-1297d907cbc0"
      },
      "execution_count": 17,
      "outputs": [
        {
          "output_type": "stream",
          "name": "stdout",
          "text": [
            "index:213\n",
            "(14:21) J.Love to CHI 44 for -3 yards\n",
            "FUMBLES, and recovers at CHI 46\n",
            "J.Love pass deep left to L.Musgrave to CHI 4 for 37 yards (T.Stevenson) [D.Walker].\n",
            "37 Yard Pass\n",
            "\n",
            "index:423\n",
            "(14:15) T.Lawrence pass short right to C.Ridley to JAX 47 for 14 yards (R.Thomas, E.Speed)\n",
            "FUMBLES (E.Speed), RECOVERED by IND-E.Speed at IND 49\n",
            "E.Speed ran ob at IND 49 for no gain\n",
            "The Replay Official reviewed the ball was inbounds ruling, and the play was REVERSED\n",
            "T.Lawrence pass short right to C.Ridley to JAX 47 for 14 yards (R.Thomas, E.Speed)\n",
            "FUMBLES (E.Speed), ball out of bounds at IND 49\n",
            "IND-K.Moore was injured during the play\n",
            "IND-D.Flowers was injured during the play.\n",
            "14 Yard Pass\n",
            "\n",
            "index:872\n",
            "(11:26) (Shotgun) D.Prescott pass short right to T.Pollard to NYG 12 for 7 yards (B.Okereke)\n",
            "FUMBLES (B.Okereke), recovered by DAL-T.Biadasz at NYG 4.\n",
            "7 Yard Pass\n",
            "\n",
            "index:961\n",
            "(4:45) (Shotgun) D.Jones pass short left to M.Breida to NYG 43 for 5 yards (M.Bell)\n",
            "FUMBLES (M.Bell), recovered by NYG-P.Campbell at NYG 35\n",
            "P.Campbell to NYG 33 for -2 yards\n",
            "Officially, a pass for -3 yards.\n",
            "-5 Yard Pass\n",
            "\n",
            "index:1605\n",
            "(6:32) (Shotgun) B.Mayfield pass short middle to C.Otton to MIN 47 for 14 yards (A.Evans)\n",
            "FUMBLES (A.Evans), recovered by TB-T.Palmer at MIN 43\n",
            "Minnesota challenged the pass completion ruling, and the play was REVERSED\n",
            "(Shotgun) B.Mayfield pass incomplete short middle to C.Otton (A.Evans).\n",
            "Pass Incomplete\n",
            "\n",
            "index:1931\n",
            "(3:50) (Shotgun) T.Tagovailoa pass short right to S.Ahmed to MIA 26 for 1 yard (J.Taylor)\n",
            "FUMBLES (J.Taylor), RECOVERED by LAC-K.Murray at MIA 24\n",
            "K.Murray for 24 yards, TOUCHDOWN\n",
            "The Replay Official reviewed the pass completion ruling, and the play was REVERSED\n",
            "(Shotgun) T.Tagovailoa pass incomplete short right to S.Ahmed (J.Taylor).\n",
            "Pass Incomplete\n",
            "\n",
            "index:2295\n",
            "(3:05) (Shotgun) B.Purdy pass short middle to C.McCaffrey to SF 39 for 7 yards (K.Alexander, C.Holcomb) [Ca.Heyward]\n",
            "FUMBLES (C.Holcomb), and recovers at SF 39.\n",
            "7 Yard Pass\n",
            "\n"
          ]
        }
      ]
    },
    {
      "cell_type": "markdown",
      "source": [
        "##### Run Fumble Plays"
      ],
      "metadata": {
        "id": "K5cZryPjsnxd"
      }
    },
    {
      "cell_type": "code",
      "source": [
        "##########\n",
        "# DESIGN #\n",
        "##########\n",
        "\n",
        "# HOW TO ADD NEW ROW:\n",
        "# - Once signaled that a new row needs to be made:\n",
        "#   1. Get index of play that needs new row\n",
        "#   2. Get data needed for inputs into new row\n",
        "#   3. Split dataframe to where row needs to be input\n",
        "#   4. concat before input, input, after input\n",
        "#   5. reset index.\n",
        "#     - Issue here is that all plays after this will have a different\n",
        "#       index. If the loop continues, the indexes will point to the\n",
        "#       wrong plays.\n",
        "#       - ~ SOLUTION:\n",
        "#           - memorize the last index of play that needed the addition of a new row\n",
        "#             - Relocate all specified type of plays within dataframe and have\n",
        "#               the cleaning method start where it left off."
      ],
      "metadata": {
        "id": "A6mdHP3SzJ-r"
      },
      "execution_count": 18,
      "outputs": []
    },
    {
      "cell_type": "code",
      "source": [
        "# Version 2\n",
        "\n",
        "# NOTES:\n",
        "# - I think \"PlayOutcomes\" is what determines the yardage gained on an intended play?\n",
        "#   - This does not seem right to me.\n",
        "#   - EXAMPLE:\n",
        "#     - (9:54) Bre.Hall left end to BUF 22 for -1 yards (G.Rousseau)\n",
        "#       FUMBLES (G.Rousseau), ball out of bounds at BUF 25.\n",
        "#       - I would think that Bre.Hall would get docked -1 yards for his run.\n",
        "#         - But I believe that he is actually docked -4\n",
        "#           - 'PlayStart' = 2nd & 9 at BUF 21\n",
        "#           - The play ends at BUF 25\n",
        "#             - In my opinion and how I am going to track yardage is based on\n",
        "#               possession of the ball. So I will track this as -1 yard not -4.\n",
        "\n",
        "# PURPOSE:\n",
        "# - Extract fumble details and push back data from plays that can be broken down by the\n",
        "#   main play cleaning method.\n",
        "# INPUT PARAMTERS:\n",
        "# play - string - 'PlayDescription' of current focused play that contains a fumble\n",
        "# OUTPUT:\n",
        "# extracted_fumble_details - list - all details of the fumbled play that contain data\n",
        "#                                   that is of less importance\n",
        "#                                   - The reason for this is to save space. It does not\n",
        "#                                     make sense to have features for this data when\n",
        "#                                     1/100 plays will contain a fumble.\n",
        "# push_back_to_pipeline    - list - All details of the fumbled play that can be broken\n",
        "#                                   down by the main play cleaning method.\n",
        "\n",
        "def extract_fumble_data_run(df_plays, play, play_index):\n",
        "  play_elements = play.split(\". \")\n",
        "  extracted_fumble_details = [None] * len(play_elements)\n",
        "  push_back_to_pipeline = []\n",
        "  automatic_fumble_detail_add = False\n",
        "\n",
        "  for i in play_elements:\n",
        "    push_back_to_pipeline.append(i)\n",
        "\n",
        "    # 1. I need to signal that this play has been aborted\n",
        "    #    - Maybe I can put this back into fumble details?\n",
        "    # 2. Should this break down here or in the main breakdown method?\n",
        "    #    - I am going to try and send it to the main breakdwon method.\n",
        "    if i.find('Aborted') != -1:\n",
        "      # push_back_to_pipeline.pop(push_back_to_pipeline.index(i))\n",
        "      extracted_fumble_details.pop(play_elements.index(i))\n",
        "      extracted_fumble_details.insert(play_elements.index(i), i)\n",
        "      # Will obtain in main play breakdown method\n",
        "      # - formation\n",
        "      # - quarterback || rusher\n",
        "      continue\n",
        "\n",
        "    if i.find('FUMBLES') != -1:\n",
        "      push_back_to_pipeline.pop(push_back_to_pipeline.index(i))\n",
        "      extracted_fumble_details.pop(play_elements.index(i))\n",
        "      extracted_fumble_details.insert(play_elements.index(i), i)\n",
        "\n",
        "    # 1. create new dataframe with added row\n",
        "    # 2. replace old dataframe with new\n",
        "    # 3. rerun cleaning method and continue cleaning\n",
        "    #    starting with the added row.\n",
        "\n",
        "    # This checks for plays after a fumble recovery.\n",
        "    # When this passes, the current play description\n",
        "    # will be split into 2. Each given their own row\n",
        "    # to be broken down separately.\n",
        "    # 1. before fumble recovery\n",
        "    # 2. after fumble recovery\n",
        "    after_fumble_action = re.findall(run_after_recovery, i)\n",
        "    if len(after_fumble_action) > 0:\n",
        "      # GOAL: Add new row into dataframe\n",
        "      # I need to take the play after fumble and create its own row\n",
        "\n",
        "      # 1. use index to split the dataframe at point of insertion\n",
        "      df_before_insert = df_plays.iloc[:idx+1] # include current play\n",
        "      df_after_insert = df_plays.iloc[idx+1:] # exclude current play\n",
        "\n",
        "      # 2. Adjust current play PlayDescription\n",
        "      print(play_elements.index(i))\n",
        "      df_plays['PlayDescription'].iloc[idx] = \". \".join(play_elements[:play_elements.index(i)])\n",
        "\n",
        "      # 3. add data to create new row\n",
        "      #    - 'PlayOutcome' = The same as the original PlayOutcome\n",
        "      #      - REASONING:\n",
        "      #        a. Will be group in with the same targeted plays\n",
        "      #        b. An indication showing that although this play has been\n",
        "      #           split, it is still the same play.\n",
        "      #    - 'PlayDescription' = Split\n",
        "      #       - What happens if it's a fumble after a fumble..?\n",
        "      #       - I think the playdescription should take place from where the added\n",
        "      #         new row play is. That way if there is another fumble after, it will\n",
        "      #         again create a new row.\n",
        "      added_row = df_plays.iloc[play_index].copy()\n",
        "      added_row['PlayOutcome'] = value\n",
        "      added_row['PlayDescription'] = \". \".join(play_elements[play_elements.index(i):])\n",
        "      # I need to change the play description of the current play as well and\n",
        "      # have the cleaning method start from the original play.\n",
        "      # - I will have to add all needed rows and once there are no more rows left\n",
        "      #   to be added, then I will clean all those rows.\n",
        "\n",
        "      # 4. concat 3 pieces together (before break df, added row, after break df)\n",
        "      # 5. reindex\n",
        "      df_plays_with_added_row = pd.concat([df_before_insert, added_row, df_after_insert], ignore_index=True)\n",
        "\n",
        "      # 6. break out of 'extract_fumble_data_run'\n",
        "      # 7. have the method refind all of the plays that it was trying to clean\n",
        "      #    out of the original dataframe, and have it start cleaning plays right\n",
        "      #    from where it left off. This way, it will start cleaning at the new\n",
        "      #    row just created and will continue on.\n",
        "\n",
        "      # return None, None, df_plays_with_added_row, idx\n",
        "      return extracted_fumble_details, push_back_to_pipeline, df_plays_with_added_row, idx\n",
        "\n",
        "\n",
        "      # push_back_to_pipeline.pop(push_back_to_pipeline.index(i))\n",
        "      # extracted_fumble_details.pop(play_elements.index(i))\n",
        "      # extracted_fumble_details.insert(play_elements.index(i), i)\n",
        "      # # New row\n",
        "      # continue\n",
        "\n",
        "  return extracted_fumble_details, push_back_to_pipeline, None, None"
      ],
      "metadata": {
        "id": "4MPxA3F71WhA"
      },
      "execution_count": 48,
      "outputs": []
    },
    {
      "cell_type": "code",
      "source": [
        "for idx, value in df_2023_run_week1['PlayOutcome'].items():\n",
        "  play = week1_2023_plays['PlayDescription'].iloc[idx]\n",
        "  if play.find('FUMBLES') != -1:\n",
        "    fumble_play_elements = play.split(\". \")\n",
        "    print(\"index: \" + str(idx))\n",
        "    for i in fumble_play_elements:\n",
        "      print(i)\n",
        "    print()"
      ],
      "metadata": {
        "colab": {
          "base_uri": "https://localhost:8080/"
        },
        "id": "wJadYNPmfBa-",
        "outputId": "c69d5728-9ea8-4484-ec31-c806ce79b8fc"
      },
      "execution_count": 54,
      "outputs": [
        {
          "output_type": "stream",
          "name": "stdout",
          "text": [
            "index: 115\n",
            "(9:54) Bre.Hall left end to BUF 22 for -1 yards (G.Rousseau)\n",
            "FUMBLES (G.Rousseau), ball out of bounds at BUF 25.\n",
            "\n",
            "index: 230\n",
            "(2:08) S.Clifford FUMBLES (Aborted) at CHI 35, and recovers at CHI 35.\n",
            "\n",
            "index: 756\n",
            "(6:44) (Shotgun) J.Goff Aborted\n",
            "F.Ragnow FUMBLES at KC 24, recovered by DET-J.Goff at KC 27\n",
            "J.Goff to KC 27 for no gain (G.Karlaftis).\n",
            "\n",
            "index: 826\n",
            "(8:53) (Shotgun) D.Jones Aborted\n",
            "J.Schmitz FUMBLES at DAL 18, recovered by NYG-D.Jones at DAL 27.\n",
            "\n",
            "index: 933\n",
            "(9:27) (Shotgun) D.Jones FUMBLES (Aborted) at NYG 30, and recovers at NYG 30\n",
            "D.Jones to NYG 32 for 2 yards (M.Smith).\n",
            "\n",
            "index: 1015\n",
            "(6:33) (No Huddle, Shotgun) L.Jackson scrambles right end to HOU 20 for 6 yards (T.Thomas)\n",
            "FUMBLES (T.Thomas), recovered by BAL-K.Zeitler at HOU 23\n",
            "HOU-H.Ridgeway was injured during the play.\n",
            "\n",
            "index: 1214\n",
            "(1:39) J.Williams right tackle to TEN 9 for 11 yards (K.Byard, S.Murphy-Bunting)\n",
            "FUMBLES (S.Murphy-Bunting), and recovers at TEN 9.\n",
            "\n",
            "index: 1343\n",
            "(3:02) T.Munford reported in as eligible\n",
            " J.Garoppolo FUMBLES (Aborted) at DEN 1, and recovers at DEN 1.\n",
            "\n",
            "index: 1512\n",
            "(10:16) (Shotgun) B.Young to ATL 38 for -5 yards\n",
            "FUMBLES, and recovers at ATL 36\n",
            "B.Young to ATL 36 for no gain (T.Andersen).\n",
            "\n",
            "index: 1921\n",
            "(13:56) (Shotgun) T.Tagovailoa FUMBLES (Aborted) at MIA 20, touched at MIA 20, and recovers at MIA 20.\n",
            "\n"
          ]
        }
      ]
    },
    {
      "cell_type": "code",
      "source": [
        "for idx, value in df_2023_run_week1['PlayOutcome'].items():\n",
        "  play = week1_2023_plays['PlayDescription'].iloc[idx]\n",
        "  if play.find('FUMBLES') != -1:\n",
        "    fumble_details, main_play, df, index = extract_fumble_data_run(week1_2023_plays, play, idx)\n",
        "    fumble_play_elements = play.split(\". \")\n",
        "    print(\"index: \" + str(idx))\n",
        "    for i in fumble_play_elements:\n",
        "      print(i)\n",
        "    print(\"------------\")\n",
        "    print(fumble_details)\n",
        "    print(main_play)\n",
        "    main_play = \". \".join(main_play)\n",
        "    print(main_play)\n",
        "    # print(value)\n",
        "    print()\n",
        "    print()"
      ],
      "metadata": {
        "colab": {
          "base_uri": "https://localhost:8080/"
        },
        "id": "9-3VYzJrVZnx",
        "outputId": "64d7e47b-dc78-4516-929a-6fb0b96c26aa"
      },
      "execution_count": 50,
      "outputs": [
        {
          "output_type": "stream",
          "name": "stdout",
          "text": [
            "index: 115\n",
            "(9:54) Bre.Hall left end to BUF 22 for -1 yards (G.Rousseau)\n",
            "FUMBLES (G.Rousseau), ball out of bounds at BUF 25.\n",
            "------------\n",
            "[None, 'FUMBLES (G.Rousseau), ball out of bounds at BUF 25.']\n",
            "['(9:54) Bre.Hall left end to BUF 22 for -1 yards (G.Rousseau)']\n",
            "(9:54) Bre.Hall left end to BUF 22 for -1 yards (G.Rousseau)\n",
            "\n",
            "\n",
            "index: 230\n",
            "(2:08) S.Clifford FUMBLES (Aborted) at CHI 35, and recovers at CHI 35.\n",
            "------------\n",
            "['(2:08) S.Clifford FUMBLES (Aborted) at CHI 35, and recovers at CHI 35.']\n",
            "['(2:08) S.Clifford FUMBLES (Aborted) at CHI 35, and recovers at CHI 35.']\n",
            "(2:08) S.Clifford FUMBLES (Aborted) at CHI 35, and recovers at CHI 35.\n",
            "\n",
            "\n",
            "2\n",
            "index: 756\n",
            "(6:44) (Shotgun) J.Goff Aborted\n",
            "F.Ragnow FUMBLES at KC 24, recovered by DET-J.Goff at KC 27\n",
            "J.Goff to KC 27 for no gain (G.Karlaftis).\n",
            "------------\n",
            "['(6:44) (Shotgun) J.Goff Aborted', 'F.Ragnow FUMBLES at KC 24, recovered by DET-J.Goff at KC 27', None]\n",
            "['(6:44) (Shotgun) J.Goff Aborted', 'J.Goff to KC 27 for no gain (G.Karlaftis).']\n",
            "(6:44) (Shotgun) J.Goff Aborted. J.Goff to KC 27 for no gain (G.Karlaftis).\n",
            "\n",
            "\n",
            "index: 826\n",
            "(8:53) (Shotgun) D.Jones Aborted\n",
            "J.Schmitz FUMBLES at DAL 18, recovered by NYG-D.Jones at DAL 27.\n",
            "------------\n",
            "['(8:53) (Shotgun) D.Jones Aborted', 'J.Schmitz FUMBLES at DAL 18, recovered by NYG-D.Jones at DAL 27.']\n",
            "['(8:53) (Shotgun) D.Jones Aborted']\n",
            "(8:53) (Shotgun) D.Jones Aborted\n",
            "\n",
            "\n",
            "1\n",
            "index: 933\n",
            "(9:27) (Shotgun) D.Jones FUMBLES (Aborted) at NYG 30, and recovers at NYG 30\n",
            "D.Jones to NYG 32 for 2 yards (M.Smith).\n",
            "------------\n",
            "['(9:27) (Shotgun) D.Jones FUMBLES (Aborted) at NYG 30, and recovers at NYG 30', None]\n",
            "['(9:27) (Shotgun) D.Jones FUMBLES (Aborted) at NYG 30, and recovers at NYG 30', 'D.Jones to NYG 32 for 2 yards (M.Smith).']\n",
            "(9:27) (Shotgun) D.Jones FUMBLES (Aborted) at NYG 30, and recovers at NYG 30. D.Jones to NYG 32 for 2 yards (M.Smith).\n",
            "\n",
            "\n",
            "index: 1015\n",
            "(6:33) (No Huddle, Shotgun) L.Jackson scrambles right end to HOU 20 for 6 yards (T.Thomas)\n",
            "FUMBLES (T.Thomas), recovered by BAL-K.Zeitler at HOU 23\n",
            "HOU-H.Ridgeway was injured during the play.\n",
            "------------\n",
            "[None, 'FUMBLES (T.Thomas), recovered by BAL-K.Zeitler at HOU 23', None]\n",
            "['(6:33) (No Huddle, Shotgun) L.Jackson scrambles right end to HOU 20 for 6 yards (T.Thomas)', 'HOU-H.Ridgeway was injured during the play.']\n",
            "(6:33) (No Huddle, Shotgun) L.Jackson scrambles right end to HOU 20 for 6 yards (T.Thomas). HOU-H.Ridgeway was injured during the play.\n",
            "\n",
            "\n",
            "index: 1214\n",
            "(1:39) J.Williams right tackle to TEN 9 for 11 yards (K.Byard, S.Murphy-Bunting)\n",
            "FUMBLES (S.Murphy-Bunting), and recovers at TEN 9.\n",
            "------------\n",
            "[None, 'FUMBLES (S.Murphy-Bunting), and recovers at TEN 9.']\n",
            "['(1:39) J.Williams right tackle to TEN 9 for 11 yards (K.Byard, S.Murphy-Bunting)']\n",
            "(1:39) J.Williams right tackle to TEN 9 for 11 yards (K.Byard, S.Murphy-Bunting)\n",
            "\n",
            "\n",
            "index: 1343\n",
            "(3:02) T.Munford reported in as eligible\n",
            " J.Garoppolo FUMBLES (Aborted) at DEN 1, and recovers at DEN 1.\n",
            "------------\n",
            "[None, ' J.Garoppolo FUMBLES (Aborted) at DEN 1, and recovers at DEN 1.']\n",
            "['(3:02) T.Munford reported in as eligible', ' J.Garoppolo FUMBLES (Aborted) at DEN 1, and recovers at DEN 1.']\n",
            "(3:02) T.Munford reported in as eligible.  J.Garoppolo FUMBLES (Aborted) at DEN 1, and recovers at DEN 1.\n",
            "\n",
            "\n",
            "2\n",
            "index: 1512\n",
            "(10:16) (Shotgun) B.Young to ATL 38 for -5 yards\n",
            "FUMBLES, and recovers at ATL 36\n",
            "B.Young to ATL 36 for no gain (T.Andersen).\n",
            "------------\n",
            "[None, 'FUMBLES, and recovers at ATL 36', None]\n",
            "['(10:16) (Shotgun) B.Young to ATL 38 for -5 yards', 'B.Young to ATL 36 for no gain (T.Andersen).']\n",
            "(10:16) (Shotgun) B.Young to ATL 38 for -5 yards. B.Young to ATL 36 for no gain (T.Andersen).\n",
            "\n",
            "\n",
            "index: 1921\n",
            "(13:56) (Shotgun) T.Tagovailoa FUMBLES (Aborted) at MIA 20, touched at MIA 20, and recovers at MIA 20.\n",
            "------------\n",
            "['(13:56) (Shotgun) T.Tagovailoa FUMBLES (Aborted) at MIA 20, touched at MIA 20, and recovers at MIA 20.']\n",
            "['(13:56) (Shotgun) T.Tagovailoa FUMBLES (Aborted) at MIA 20, touched at MIA 20, and recovers at MIA 20.']\n",
            "(13:56) (Shotgun) T.Tagovailoa FUMBLES (Aborted) at MIA 20, touched at MIA 20, and recovers at MIA 20.\n",
            "\n",
            "\n"
          ]
        },
        {
          "output_type": "stream",
          "name": "stderr",
          "text": [
            "<ipython-input-48-90e22e0b6716>:79: SettingWithCopyWarning: \n",
            "A value is trying to be set on a copy of a slice from a DataFrame\n",
            "\n",
            "See the caveats in the documentation: https://pandas.pydata.org/pandas-docs/stable/user_guide/indexing.html#returning-a-view-versus-a-copy\n",
            "  df_plays['PlayDescription'].iloc[idx] = \". \".join(play_elements[:play_elements.index(i)])\n",
            "<ipython-input-48-90e22e0b6716>:79: SettingWithCopyWarning: \n",
            "A value is trying to be set on a copy of a slice from a DataFrame\n",
            "\n",
            "See the caveats in the documentation: https://pandas.pydata.org/pandas-docs/stable/user_guide/indexing.html#returning-a-view-versus-a-copy\n",
            "  df_plays['PlayDescription'].iloc[idx] = \". \".join(play_elements[:play_elements.index(i)])\n",
            "<ipython-input-48-90e22e0b6716>:79: SettingWithCopyWarning: \n",
            "A value is trying to be set on a copy of a slice from a DataFrame\n",
            "\n",
            "See the caveats in the documentation: https://pandas.pydata.org/pandas-docs/stable/user_guide/indexing.html#returning-a-view-versus-a-copy\n",
            "  df_plays['PlayDescription'].iloc[idx] = \". \".join(play_elements[:play_elements.index(i)])\n"
          ]
        }
      ]
    },
    {
      "cell_type": "code",
      "source": [
        "for idx, value in df_2023_run_week1['PlayOutcome'].items():\n",
        "  play = week1_2023_plays['PlayDescription'].iloc[idx]\n",
        "  print(play)\n",
        "  print()"
      ],
      "metadata": {
        "id": "vuIMSk2-pWnb"
      },
      "execution_count": null,
      "outputs": []
    },
    {
      "cell_type": "code",
      "source": [
        "for idx, value in week1_2023_plays['PlayOutcome'].items():\n",
        "  play = week1_2023_plays['PlayDescription'].iloc[idx]\n",
        "  if play.find('REVERSED') != -1:\n",
        "    print(\"index:\" + str(idx))\n",
        "    elements = play.split(\". \")\n",
        "    for i in elements:\n",
        "      print(i)\n",
        "    print()\n",
        "    print(value)\n",
        "    print()"
      ],
      "metadata": {
        "id": "Cka1tEjtEc8h"
      },
      "execution_count": null,
      "outputs": []
    },
    {
      "cell_type": "markdown",
      "source": [
        "### RUN PLAYS"
      ],
      "metadata": {
        "id": "bRGsJa-J8CPe"
      }
    },
    {
      "cell_type": "code",
      "source": [
        "# An idea for how to adjust when a row is added to df\n",
        "# index_start - Can be changed if some rows have already been cleaned\n",
        "\n",
        "# def clean_run_plays(df_plays, index_start=0)\n",
        "\n",
        "def clean_run_plays(df_plays, index_start = None):\n",
        "\n",
        "  # All run plays within df_plays\n",
        "  df_run_plays = df_plays[df_plays['PlayOutcome'].str.contains('Run')]\n",
        "\n",
        "  # Cut df_run_plays to have only from index_start to the end\n",
        "  if index_start != None:\n",
        "    df_run_plays = df_run_plays.iloc[df_run_plays.index.tolist().index(index_start):] # This might be wrong.\n",
        "\n",
        "  # Iterating through all run plays\n",
        "  for idx, value in df_run_plays['PlayOutcome'].items():\n",
        "    play = df_plays['PlayDescription'].iloc[idx]\n",
        "\n",
        "    ################\n",
        "    # Play details #\n",
        "    ################\n",
        "\n",
        "    # Play Type\n",
        "    # Should be different for aborted or fumble plays?\n",
        "    df_plays.loc[idx, 'PlayType'] = 'Run'\n",
        "\n",
        "    # TimeOnTheClock\n",
        "    TimeOnTheClock = re.findall(time_on_clock_pattern, play)\n",
        "    df_plays.loc[idx, 'TimeOnTheClock'] = TimeOnTheClock[0][1:-1]\n",
        "\n",
        "    ############\n",
        "    # REVERSES #\n",
        "    ############\n",
        "\n",
        "    # We do not need to record any information before the reversed statement\n",
        "    # within the play description.\n",
        "    if play.find('REVERSED') != -1:\n",
        "      play_elements = play.split(\". \")\n",
        "      for i in play_elements:\n",
        "        if i.find(\"REVERSED\") != -1:\n",
        "          df_plays.at[idx, 'ReverseDetails'] = play_elements[:play_elements.index(i) + 1]\n",
        "          play = \". \".join(play_elements[play_elements.index(i) + 1:])\n",
        "          break\n",
        "\n",
        "    ############################\n",
        "    # REPORTING IN AS ELIGIBLE #\n",
        "    ############################\n",
        "\n",
        "    # I do not think this contains any useful data so I am going to exclude it.\n",
        "    if play.find('reported in as eligible') != -1:\n",
        "      play_elements = play.split(\". \")\n",
        "      for i in play_elements:\n",
        "        if i.find('reported in as eligible') != -1:\n",
        "          play = \". \".join(play_elements[play_elements.index(i) + 1:])\n",
        "          break\n",
        "\n",
        "    # Handle Fumbles\n",
        "    if play.find('FUMBLES') != -1:\n",
        "      # Method for fumble\n",
        "      # - I think right here I want to return 3 things for 2 different situations\n",
        "      #   1. will return: (list, string, NOTHING, NOTHING)\n",
        "      #      - In this situation, the fumble did not have\n",
        "      #        yardage after fumble.\n",
        "      #        - No additional rows added and will continue using\n",
        "      #          the original dataframe\n",
        "      #   2. will return: (NOTHING, NOTHING, dataframe, Index_of_row)\n",
        "      #      - In this situation, the fumble did have\n",
        "      #        yardage after fumble.\n",
        "      #        - Additional row was added and a new dataframe\n",
        "      #          was created with said additional row\n",
        "      #          - I will need to figure out a way to use this dataframe\n",
        "      #            in place of the one currently being used.\n",
        "      fumble_details, play, new_df, checkmarker_index = extract_fumble_data_run(df_plays, play, idx)\n",
        "\n",
        "      # If a row_index appears, that means that there has been an addition\n",
        "      # to the dataframe (new_df) and this method needs to be ran again and start\n",
        "      # cleaning where it left off (checkmarker_index)\n",
        "      # - Because\n",
        "      if checkmarker_index != None:\n",
        "        # Run this method over again starting at checkmarker_index\n",
        "        clean_run_plays(df_plays, checkmarker_index)\n",
        "        return\n",
        "\n",
        "\n",
        "      df_plays.at[idx, 'FumbleDetails'] = fumble_details\n",
        "      play = \". \".join(play)\n",
        "      # continue\n",
        "\n",
        "    yardage = re.findall(yardage_gained, play)\n",
        "    if len(yardage) > 0:\n",
        "      df_plays.loc[idx, 'Yardage'] = int(yardage[0].split()[1])\n",
        "    else:\n",
        "      df_plays.loc[idx, 'Yardage'] = 0\n",
        "\n",
        "    ##########################\n",
        "    # MISTAKES AND TURNOVERS #\n",
        "    ##########################\n",
        "\n",
        "    if play.find('PENALTY') != -1:\n",
        "      # Method for penalty\n",
        "      continue\n",
        "\n",
        "    #############\n",
        "    #  OFFENSE  #\n",
        "    #############\n",
        "\n",
        "    # Formation\n",
        "    Formation = re.findall(formation, play)\n",
        "    if len(Formation) > 0:\n",
        "      if Formation[0][1:-1] == 'Aborted':\n",
        "        pass\n",
        "      else:\n",
        "        df_plays.loc[idx, 'Formation'] = Formation[0][1:-1]\n",
        "\n",
        "    # Rusher\n",
        "    rusher_names = re.findall(rusher_pattern, play) # May grab name(s) bc regular expression. (Only want rusher)\n",
        "    rusher_name = rusher_names[0][:-1]\n",
        "    df_plays.loc[idx, 'Rusher'] = rusher_name\n",
        "    # Direction\n",
        "    rushing_directions = ['guard', 'middle', 'tackle', 'end', 'kneels']\n",
        "    for i in rushing_directions:\n",
        "      if play.find(i) != -1:\n",
        "        start = play.find(rusher_name) + len(rusher_name) + 1\n",
        "        end = play.find(i) + len(i)\n",
        "        df_plays.loc[idx, 'Direction'] = play[start:end]\n",
        "\n",
        "    #############\n",
        "    #  DEFENSE  #\n",
        "    #############\n",
        "\n",
        "    tackler_1 = re.findall(defense_tackler_1_name_pattern, play) # tackler #1 (Could be solo or the one who initiated the hit)\n",
        "    if len(tackler_1) > 0:\n",
        "      df_plays.loc[idx, 'TackleBy1'] = tackler_1[0][1:]\n",
        "    tackler_2 = re.findall(defense_tackler_2_name_pattern, play) # tackler #2 (equally contributed or assisted with tackle)\n",
        "    if len(tackler_2) > 0:\n",
        "      df_plays.loc[idx, 'TackleBy2'] = tackler_2[0][1:-1]"
      ],
      "metadata": {
        "id": "YYhZA6VY8RFL"
      },
      "execution_count": 39,
      "outputs": []
    },
    {
      "cell_type": "markdown",
      "source": [
        "## PIPELINE MAIN METHOD\n",
        "- Method that wraps all unique play type cleaning methods into one."
      ],
      "metadata": {
        "id": "i0nkzhWl5FEn"
      }
    },
    {
      "cell_type": "code",
      "source": [
        "# PURPOSE:\n",
        "# - Simply accept a dataframe of plays and return a dataframe with those plays cleaned.\n",
        "# INPUT PARAMTERS:\n",
        "# df_all_plays         - dataframe - all plays in raw form from NFL_Scraper that user\n",
        "#                                    would like to clean.\n",
        "# OUTPUT:\n",
        "# df_all_plays_cleaned - dataframe - all plays from 'df_all_plays' cleaned and data\n",
        "#                                    dispersed into individual new features.\n",
        "\n",
        "# CURRENT DESIGN PLAN:\n",
        "# 1. clean_dataframe_of_plays\n",
        "#   1.1 Get indexes of a single category of play type within dataframe\n",
        "#       (e.g. pass, run, touchdown, punt, sack, ... )\n",
        "#   1.2 Use uniquely designed method for play type to clean within dataframe\n",
        "#   1.3 Repeat until all plays within dataframe have been cleaned.\n",
        "#      NOTE:\n",
        "#      - It is important to fully clean a play type before moving to the next\n",
        "#        because sometimes cleaning could involve adding a new row to the dataframe,\n",
        "#        causing a reset to the dataframes indexing.\n",
        "#        - If we were to separate all play types from the beginning, the indexes\n",
        "#          could shift around causing an index that might be pointing to a run play\n",
        "#          to now pointing at a pass play.\n",
        "\n",
        "def clean_dataframe_of_plays(df_all_plays):\n",
        "\n",
        "  ###########################\n",
        "  # NEW COLUMN DESCRIPTIONS #\n",
        "  ###########################\n",
        "\n",
        "  # PlayType           - The type of play (e.g. pass/run)\n",
        "  # TimeOnTheClock     - The time that was on the clock when the play started\n",
        "  # Formation          - Play formation\n",
        "  # Passer             - Player that threw the ball (mostly the quarterback)\n",
        "  # Rusher             - Player that ran the ball (mostly the runningback)\n",
        "  # Receiver           - Player on the same team as the passer that caught the ball\n",
        "  # PassType           - Whether the pass was a deep or short pass?\n",
        "  # Direction          - Where the ball is going during the play\n",
        "  # Yardage            - Yards gained during the play\n",
        "  # TackleBy1          - Main tackler on the play (could be solo or could be with someone else)\n",
        "  # TackleBy2          - Assisted tackler1\n",
        "  # PressureBy         - Defender that applied pressure to the passer\n",
        "  # FumbleDetails      - A list that has what happened after the fumble\n",
        "  #                      - [forced fumble by, recovered by, yards gained, tackled by]\n",
        "  # ReverseDetails     - A list having plays leading up to play reversal\n",
        "  # InjuredPlayers     - Players that were injured during the play\n",
        "  # PenaltyDescription - If there is a penalty, gives a description of it\n",
        "  #                      - [who caused the penalty, what was the penalty, yards lost if penalty accepted]\n",
        "  # Yardage            - Total yardage gained on intended play (yardage gained from penalties and fumble recoveries do not count)\n",
        "\n",
        "  new_columns = [\"PlayType\", \"TimeOnTheClock\", \"Formation\", \"Passer\", \"Rusher\", \"Receiver\", \"PassType\", \"Direction\", \"Yardage\",\n",
        "                \"TackleBy1\", \"TackleBy2\", \"PressureBy\",\n",
        "                \"FumbleDetails\", \"ReverseDetails\",\n",
        "                \"InjuredPlayers\", \"PenaltyDescription\"]\n",
        "\n",
        "  string_columns = [\"PlayType\", \"TimeOnTheClock\", \"Formation\", \"Passer\", \"Rusher\", \"Receiver\", \"PassType\", \"Direction\",\n",
        "                    \"TackleBy1\", \"TackleBy2\", \"PressureBy\",\n",
        "                    \"FumbleDetails\", \"ReverseDetails\",\n",
        "                    \"InjuredPlayers\", \"PenaltyDescription\"]\n",
        "\n",
        "  int_columns = [\"Yardage\"]\n",
        "\n",
        "  ########################################\n",
        "  # RETURN DATAFRAME WITH ADDED FEATURES #\n",
        "  ########################################\n",
        "\n",
        "  df_all_plays_cleaned = df_all_plays.copy()\n",
        "  df_all_plays_cleaned = df_all_plays_cleaned.reindex(columns=df_all_plays_cleaned.columns.tolist() + new_columns)\n",
        "  df_all_plays_cleaned[string_columns] = df_all_plays_cleaned[string_columns].astype(str)\n",
        "  df_all_plays_cleaned[int_columns] = df_all_plays_cleaned[int_columns].astype(float)\n",
        "\n",
        "  ########################################\n",
        "  # GETTING PLAY CATEGORIES AND CLEANING #\n",
        "  ########################################\n",
        "\n",
        "  clean_run_plays(df_all_plays_cleaned)\n",
        "\n",
        "  return df_all_plays_cleaned"
      ],
      "metadata": {
        "id": "7cbY2K4pyH8d"
      },
      "execution_count": null,
      "outputs": []
    },
    {
      "cell_type": "code",
      "source": [
        "df = clean_dataframe_of_plays(week1_2023_plays)"
      ],
      "metadata": {
        "id": "nnsfvTSwZy2V"
      },
      "execution_count": null,
      "outputs": []
    },
    {
      "cell_type": "code",
      "source": [
        "df.iloc[933]"
      ],
      "metadata": {
        "id": "Y6JS5HZ--ga3"
      },
      "execution_count": null,
      "outputs": []
    },
    {
      "cell_type": "code",
      "source": [
        "bills_jets_run_plays = df.loc[(df['PlayType'] == 'Run') & (df['AwayTeam'] == 'Bills')]"
      ],
      "metadata": {
        "id": "VKFVCQ3HZ9ru"
      },
      "execution_count": null,
      "outputs": []
    },
    {
      "cell_type": "code",
      "source": [
        "bills_jets_run_plays['Rusher'].unique()"
      ],
      "metadata": {
        "id": "glodQF_pbBc9"
      },
      "execution_count": null,
      "outputs": []
    },
    {
      "cell_type": "code",
      "source": [
        "bills_jets_run_plays['Yardage'].loc[bills_jets_run_plays['Rusher'] == 'Bre.Hall'].sum()"
      ],
      "metadata": {
        "id": "DSSnZ_ZGbHG-"
      },
      "execution_count": null,
      "outputs": []
    },
    {
      "cell_type": "code",
      "source": [
        "df['Yardage'].unique()"
      ],
      "metadata": {
        "id": "0oXdk7AE6Qry"
      },
      "execution_count": null,
      "outputs": []
    }
  ]
}